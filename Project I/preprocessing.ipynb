{
 "cells": [
  {
   "cell_type": "markdown",
   "metadata": {},
   "source": [
    "# Imports & settings"
   ]
  },
  {
   "cell_type": "code",
   "execution_count": null,
   "metadata": {},
   "outputs": [],
   "source": [
    "import pandas as pd\n",
    "import numpy as np"
   ]
  },
  {
   "cell_type": "markdown",
   "metadata": {},
   "source": [
    "# Preprocessing"
   ]
  },
  {
   "cell_type": "markdown",
   "metadata": {},
   "source": [
    "## 1. Collisions dataset preprocessing"
   ]
  },
  {
   "cell_type": "code",
   "execution_count": null,
   "metadata": {},
   "outputs": [],
   "source": [
    "# Loads the collision dataset.\n",
    "collisions = pd.read_csv('data/collisions.csv')"
   ]
  },
  {
   "cell_type": "code",
   "execution_count": null,
   "metadata": {},
   "outputs": [],
   "source": [
    "def filter_collisions(collisions):\n",
    "    \"\"\"\n",
    "        Filters the collisions dataset for the years 2018 and 2020.\n",
    "    \"\"\"\n",
    "\n",
    "    # Converts the 'CRASH DATE' column to a datetime format.\n",
    "    collisions['CRASH DATE'] = pd.to_datetime(collisions['CRASH DATE'], format='%m/%d/%Y')\n",
    "\n",
    "    # Filters the datasets for the summer months of 2018 and 2020.\n",
    "    def filter_summer_collisions(data, year):\n",
    "        return data[\n",
    "            ((data['CRASH DATE'].dt.year == year) & (data['CRASH DATE'].dt.month >= 6) & (data['CRASH DATE'].dt.month <= 8))\n",
    "        ]\n",
    "\n",
    "    summer_collisions_2018 = filter_summer_collisions(collisions, 2018)\n",
    "    summer_collisions_2020 = filter_summer_collisions(collisions, 2020)\n",
    "\n",
    "    return summer_collisions_2018, summer_collisions_2020\n",
    "\n",
    "# Gets the summer collisions for 2018 and 2020 datasets.\n",
    "summer_collisions_2018, summer_collisions_2020 = filter_collisions(collisions)"
   ]
  },
  {
   "cell_type": "code",
   "execution_count": null,
   "metadata": {},
   "outputs": [],
   "source": [
    "# Differentiates the information contained in the columns of the dataset into the following categories:\n",
    "# Columns that identify collision in time.\n",
    "time_columns = [\n",
    "    'CRASH DATE',\n",
    "    'CRASH TIME',\n",
    "    'BOROUGH',\n",
    "    'ZIP CODE',\n",
    "    'COLLISION_ID']\n",
    "\n",
    "# Columns that identify collision in space (locally).\n",
    "location_columns = [\n",
    "    'ON STREET NAME', \n",
    "    'CROSS STREET NAME',\n",
    "    'OFF STREET NAME'\n",
    "]\n",
    "\n",
    "# Columns about coordinate location of the collision.\n",
    "coordinates = [\n",
    "    'LATITUDE',\n",
    "    'LONGITUDE'\n",
    "]\n",
    "\n",
    "# Columns that identify the people involved in the collision.\n",
    "people_involved = [\n",
    "    'NUMBER OF PERSONS INJURED',\n",
    "    'NUMBER OF PERSONS KILLED',\n",
    "    'NUMBER OF PEDESTRIANS INJURED',\n",
    "    'NUMBER OF PEDESTRIANS KILLED',\n",
    "    'NUMBER OF CYCLIST INJURED',\n",
    "    'NUMBER OF CYCLIST KILLED',\n",
    "    'NUMBER OF MOTORIST INJURED',\n",
    "    'NUMBER OF MOTORIST KILLED'\n",
    "]\n",
    "\n",
    "# Columns about factors contributing to the collision.\n",
    "contributing_factor_vehicle = [\n",
    "    'CONTRIBUTING FACTOR VEHICLE 1',\n",
    "    'CONTRIBUTING FACTOR VEHICLE 2',\n",
    "    'CONTRIBUTING FACTOR VEHICLE 3',\n",
    "    'CONTRIBUTING FACTOR VEHICLE 4',\n",
    "    'CONTRIBUTING FACTOR VEHICLE 5'\n",
    "]\n",
    "\n",
    "# Columns about the type of vehicles involved in the collision.\n",
    "vehicle_type = [\n",
    "    'VEHICLE TYPE CODE 1',\n",
    "    'VEHICLE TYPE CODE 2',\n",
    "    'VEHICLE TYPE CODE 3',\n",
    "    'VEHICLE TYPE CODE 4',\n",
    "    'VEHICLE TYPE CODE 5'\n",
    "]"
   ]
  },
  {
   "cell_type": "code",
   "execution_count": null,
   "metadata": {},
   "outputs": [],
   "source": [
    "def filter_columns_of_interest(summer_collisions, columns_of_interest):\n",
    "    \"\"\"\n",
    "        Filters the summer collisions to keep only the columns of interest.\n",
    "    \"\"\"\n",
    "\n",
    "    # Gets the columns of no interest in.\n",
    "    columns_to_drop = [col for col in summer_collisions.columns if col not in columns_of_interest]\n",
    "    \n",
    "    # Drops the columns not in columns_of_interest.\n",
    "    summer_collisions = summer_collisions.drop(columns=columns_to_drop)\n",
    "    \n",
    "    return summer_collisions\n",
    "\n",
    "# Defines columns of interest.\n",
    "columns_of_interest = time_columns + coordinates + vehicle_type\n",
    "\n",
    "# Filter columns of interest for both summer_collisions_2018 and summer_collisions_2020.\n",
    "summer_collisions_2018 = filter_columns_of_interest(summer_collisions_2018)\n",
    "summer_collisions_2020 = filter_columns_of_interest(summer_collisions_2020)"
   ]
  },
  {
   "cell_type": "code",
   "execution_count": null,
   "metadata": {},
   "outputs": [],
   "source": [
    "def manage_missing_values(summer_collisions):\n",
    "    \"\"\"\n",
    "        Processes the datasets with specified criteria on information category selection (column selection).\n",
    "    \"\"\"\n",
    "\n",
    "    # Replaces 'Unspecified' with NaN values.\n",
    "    summer_collisions = summer_collisions.replace('Unspecified', np.nan)\n",
    "    \n",
    "    # Drops rows with missing values in categories time_columns, coordinates.\n",
    "    summer_collisions = summer_collisions.dropna(subset=time_columns, how='any')\n",
    "    summer_collisions = summer_collisions.dropna(subset=coordinates, how='any')\n",
    "    \n",
    "    # Drops rows with missing values in vehicle_type where at least two types are specified.\n",
    "    summer_collisions = summer_collisions.dropna(subset=vehicle_type, thresh=2)\n",
    "    \n",
    "    return summer_collisions\n",
    "\n",
    "# Gets the minimum missing values dataframe, with all information needed to conduct the visualizations, for both summer_collisions_2018 and summer_collisions_2020.\n",
    "summer_collisions_2018 = manage_missing_values(summer_collisions_2018)\n",
    "summer_collisions_2020 = manage_missing_values(summer_collisions_2020)"
   ]
  },
  {
   "cell_type": "code",
   "execution_count": null,
   "metadata": {},
   "outputs": [],
   "source": [
    "def add_daytype(summer_collisions):\n",
    "    \"\"\"\n",
    "        Adds a column to the datasets indicating wheter is weekday or weekend.\n",
    "    \"\"\"\n",
    "\n",
    "    # Adds a new column indicating wheter is weekday (1) or weekend (0).\n",
    "    summer_collisions['DAY TYPE'] = (summer_collisions['CRASH DATE'].dt.dayofweek // 5 == 1).astype(int)\n",
    "    \n",
    "    return summer_collisions\n",
    "\n",
    "# Adds the day type column into both summer_collisions_2018 and summer_collisions_2020.\n",
    "summer_collisions_2018 = add_daytype(summer_collisions_2018)\n",
    "summer_collisions_2020 = add_daytype(summer_collisions_2020)"
   ]
  },
  {
   "cell_type": "code",
   "execution_count": null,
   "metadata": {},
   "outputs": [],
   "source": [
    "def add_covid_restrictions(summer_collisions, threshold_date):\n",
    "    \"\"\"\n",
    "        Adds a column indicating wheter COVID-19 restrictions were dictated or not.\n",
    "    \"\"\"\n",
    "\n",
    "    # Adds a new column indicating wheter the COVID-19 restrictions were dictated (1) or not (0).\n",
    "    summer_collisions['COVID-19 RESTRICTIONS'] = (summer_collisions['CRASH DATE'] >= threshold_date).astype(int)\n",
    "\n",
    "    return summer_collisions\n",
    "\n",
    "# Threshold date for the dictation of COVID-19 restrictions.\n",
    "covid_threshold_date = pd.to_datetime('2020-03-15')\n",
    "\n",
    "# Adds the COVID-19 restriction column into both summer_collisions_2018 and summer_collisions_2020.\n",
    "summer_collisions_2018 = add_covid_restrictions(summer_collisions_2018, covid_threshold_date)\n",
    "summer_collisions_2020 = add_covid_restrictions(summer_collisions_2020, covid_threshold_date)"
   ]
  },
  {
   "cell_type": "markdown",
   "metadata": {},
   "source": [
    "## 2. Weather dataset preprocessing"
   ]
  }
 ],
 "metadata": {
  "kernelspec": {
   "display_name": "base",
   "language": "python",
   "name": "python3"
  },
  "language_info": {
   "name": "python",
   "version": "3.11.5"
  }
 },
 "nbformat": 4,
 "nbformat_minor": 2
}
