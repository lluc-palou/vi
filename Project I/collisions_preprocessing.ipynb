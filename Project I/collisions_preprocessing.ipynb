{
 "cells": [
  {
   "cell_type": "markdown",
   "metadata": {},
   "source": [
    "# Imports & settings"
   ]
  },
  {
   "cell_type": "code",
   "execution_count": 140,
   "metadata": {},
   "outputs": [],
   "source": [
    "import pandas as pd\n",
    "import numpy as np"
   ]
  },
  {
   "cell_type": "markdown",
   "metadata": {},
   "source": [
    "# Collisions dataset inspection"
   ]
  },
  {
   "cell_type": "code",
   "execution_count": 141,
   "metadata": {},
   "outputs": [
    {
     "name": "stderr",
     "output_type": "stream",
     "text": [
      "C:\\Users\\llucp\\AppData\\Local\\Temp\\ipykernel_14824\\2252351059.py:2: DtypeWarning: Columns (3) have mixed types. Specify dtype option on import or set low_memory=False.\n",
      "  collisions = pd.read_csv('data/collisions.csv')\n"
     ]
    }
   ],
   "source": [
    "# Loads the downloaded raw collision data (entire dataset).\n",
    "collisions = pd.read_csv('data/collisions.csv')"
   ]
  },
  {
   "cell_type": "code",
   "execution_count": 142,
   "metadata": {},
   "outputs": [
    {
     "name": "stdout",
     "output_type": "stream",
     "text": [
      "The collisions raw dataset shape is:  (2034951, 29)\n"
     ]
    }
   ],
   "source": [
    "print('The collisions raw dataset shape is: ', collisions.shape)"
   ]
  },
  {
   "cell_type": "code",
   "execution_count": 143,
   "metadata": {},
   "outputs": [
    {
     "name": "stdout",
     "output_type": "stream",
     "text": [
      "The collisions raw dataset columns are:  Index(['CRASH DATE', 'CRASH TIME', 'BOROUGH', 'ZIP CODE', 'LATITUDE',\n",
      "       'LONGITUDE', 'LOCATION', 'ON STREET NAME', 'CROSS STREET NAME',\n",
      "       'OFF STREET NAME', 'NUMBER OF PERSONS INJURED',\n",
      "       'NUMBER OF PERSONS KILLED', 'NUMBER OF PEDESTRIANS INJURED',\n",
      "       'NUMBER OF PEDESTRIANS KILLED', 'NUMBER OF CYCLIST INJURED',\n",
      "       'NUMBER OF CYCLIST KILLED', 'NUMBER OF MOTORIST INJURED',\n",
      "       'NUMBER OF MOTORIST KILLED', 'CONTRIBUTING FACTOR VEHICLE 1',\n",
      "       'CONTRIBUTING FACTOR VEHICLE 2', 'CONTRIBUTING FACTOR VEHICLE 3',\n",
      "       'CONTRIBUTING FACTOR VEHICLE 4', 'CONTRIBUTING FACTOR VEHICLE 5',\n",
      "       'COLLISION_ID', 'VEHICLE TYPE CODE 1', 'VEHICLE TYPE CODE 2',\n",
      "       'VEHICLE TYPE CODE 3', 'VEHICLE TYPE CODE 4', 'VEHICLE TYPE CODE 5'],\n",
      "      dtype='object')\n"
     ]
    }
   ],
   "source": [
    "print('The collisions raw dataset columns are: ', collisions.columns)"
   ]
  },
  {
   "cell_type": "code",
   "execution_count": 144,
   "metadata": {},
   "outputs": [
    {
     "name": "stdout",
     "output_type": "stream",
     "text": [
      "Collisions raw dataset variable types:  CRASH DATE                        object\n",
      "CRASH TIME                        object\n",
      "BOROUGH                           object\n",
      "ZIP CODE                          object\n",
      "LATITUDE                         float64\n",
      "LONGITUDE                        float64\n",
      "LOCATION                          object\n",
      "ON STREET NAME                    object\n",
      "CROSS STREET NAME                 object\n",
      "OFF STREET NAME                   object\n",
      "NUMBER OF PERSONS INJURED        float64\n",
      "NUMBER OF PERSONS KILLED         float64\n",
      "NUMBER OF PEDESTRIANS INJURED      int64\n",
      "NUMBER OF PEDESTRIANS KILLED       int64\n",
      "NUMBER OF CYCLIST INJURED          int64\n",
      "NUMBER OF CYCLIST KILLED           int64\n",
      "NUMBER OF MOTORIST INJURED         int64\n",
      "NUMBER OF MOTORIST KILLED          int64\n",
      "CONTRIBUTING FACTOR VEHICLE 1     object\n",
      "CONTRIBUTING FACTOR VEHICLE 2     object\n",
      "CONTRIBUTING FACTOR VEHICLE 3     object\n",
      "CONTRIBUTING FACTOR VEHICLE 4     object\n",
      "CONTRIBUTING FACTOR VEHICLE 5     object\n",
      "COLLISION_ID                       int64\n",
      "VEHICLE TYPE CODE 1               object\n",
      "VEHICLE TYPE CODE 2               object\n",
      "VEHICLE TYPE CODE 3               object\n",
      "VEHICLE TYPE CODE 4               object\n",
      "VEHICLE TYPE CODE 5               object\n",
      "dtype: object\n"
     ]
    }
   ],
   "source": [
    "print('Collisions raw dataset variable types: ', collisions.dtypes)"
   ]
  },
  {
   "cell_type": "code",
   "execution_count": 145,
   "metadata": {},
   "outputs": [
    {
     "name": "stdout",
     "output_type": "stream",
     "text": [
      "Some rows of the collisions raw dataset:     CRASH DATE CRASH TIME   BOROUGH ZIP CODE   LATITUDE  LONGITUDE  \\\n",
      "0  09/11/2021       2:39       NaN      NaN        NaN        NaN   \n",
      "1  03/26/2022      11:45       NaN      NaN        NaN        NaN   \n",
      "2  06/29/2022       6:55       NaN      NaN        NaN        NaN   \n",
      "3  09/11/2021       9:35  BROOKLYN  11208.0  40.667202 -73.866500   \n",
      "4  12/14/2021       8:13  BROOKLYN  11233.0  40.683304 -73.917274   \n",
      "\n",
      "                  LOCATION           ON STREET NAME CROSS STREET NAME  \\\n",
      "0                      NaN    WHITESTONE EXPRESSWAY         20 AVENUE   \n",
      "1                      NaN  QUEENSBORO BRIDGE UPPER               NaN   \n",
      "2                      NaN       THROGS NECK BRIDGE               NaN   \n",
      "3    (40.667202, -73.8665)                      NaN               NaN   \n",
      "4  (40.683304, -73.917274)          SARATOGA AVENUE    DECATUR STREET   \n",
      "\n",
      "           OFF STREET NAME  ...  CONTRIBUTING FACTOR VEHICLE 2  \\\n",
      "0                      NaN  ...                    Unspecified   \n",
      "1                      NaN  ...                            NaN   \n",
      "2                      NaN  ...                    Unspecified   \n",
      "3  1211      LORING AVENUE  ...                            NaN   \n",
      "4                      NaN  ...                            NaN   \n",
      "\n",
      "   CONTRIBUTING FACTOR VEHICLE 3  CONTRIBUTING FACTOR VEHICLE 4  \\\n",
      "0                            NaN                            NaN   \n",
      "1                            NaN                            NaN   \n",
      "2                            NaN                            NaN   \n",
      "3                            NaN                            NaN   \n",
      "4                            NaN                            NaN   \n",
      "\n",
      "   CONTRIBUTING FACTOR VEHICLE 5  COLLISION_ID  VEHICLE TYPE CODE 1  \\\n",
      "0                            NaN       4455765                Sedan   \n",
      "1                            NaN       4513547                Sedan   \n",
      "2                            NaN       4541903                Sedan   \n",
      "3                            NaN       4456314                Sedan   \n",
      "4                            NaN       4486609                  NaN   \n",
      "\n",
      "   VEHICLE TYPE CODE 2  VEHICLE TYPE CODE 3 VEHICLE TYPE CODE 4  \\\n",
      "0                Sedan                  NaN                 NaN   \n",
      "1                  NaN                  NaN                 NaN   \n",
      "2        Pick-up Truck                  NaN                 NaN   \n",
      "3                  NaN                  NaN                 NaN   \n",
      "4                  NaN                  NaN                 NaN   \n",
      "\n",
      "  VEHICLE TYPE CODE 5  \n",
      "0                 NaN  \n",
      "1                 NaN  \n",
      "2                 NaN  \n",
      "3                 NaN  \n",
      "4                 NaN  \n",
      "\n",
      "[5 rows x 29 columns]\n"
     ]
    }
   ],
   "source": [
    "print('Some rows of the collisions raw dataset: ', collisions.head())"
   ]
  },
  {
   "cell_type": "markdown",
   "metadata": {},
   "source": [
    "# Collisions dataset preprocessing"
   ]
  },
  {
   "cell_type": "code",
   "execution_count": 146,
   "metadata": {},
   "outputs": [],
   "source": [
    "# Convert the 'CRASH DATE' column to a datetime format.\n",
    "collisions['CRASH DATE'] = pd.to_datetime(collisions['CRASH DATE'], format='%m/%d/%Y')\n",
    "\n",
    "# Filter data for the summer of 2018, considering summer the months of June, July, and August.\n",
    "summer_collisions_2018 = collisions[\n",
    "    ((collisions['CRASH DATE'].dt.year == 2018) & (collisions['CRASH DATE'].dt.month >= 6) & (collisions['CRASH DATE'].dt.month <= 8))\n",
    "]\n",
    "\n",
    "# Filter data for the summer of 2020, considering summer the months of June, July, and August.\n",
    "summer_collisions_2020 = collisions[\n",
    "    ((collisions['CRASH DATE'].dt.year == 2020) & (collisions['CRASH DATE'].dt.month >= 6) & (collisions['CRASH DATE'].dt.month <= 8))\n",
    "]"
   ]
  },
  {
   "cell_type": "code",
   "execution_count": 147,
   "metadata": {},
   "outputs": [
    {
     "name": "stdout",
     "output_type": "stream",
     "text": [
      "Missing values in 2018:\n",
      "CRASH DATE                           0\n",
      "CRASH TIME                           0\n",
      "BOROUGH                          21397\n",
      "ZIP CODE                         21403\n",
      "LATITUDE                          3517\n",
      "LONGITUDE                         3517\n",
      "LOCATION                          3517\n",
      "ON STREET NAME                   14912\n",
      "CROSS STREET NAME                30739\n",
      "OFF STREET NAME                  45420\n",
      "NUMBER OF PERSONS INJURED            1\n",
      "NUMBER OF PERSONS KILLED             3\n",
      "NUMBER OF PEDESTRIANS INJURED        0\n",
      "NUMBER OF PEDESTRIANS KILLED         0\n",
      "NUMBER OF CYCLIST INJURED            0\n",
      "NUMBER OF CYCLIST KILLED             0\n",
      "NUMBER OF MOTORIST INJURED           0\n",
      "NUMBER OF MOTORIST KILLED            0\n",
      "CONTRIBUTING FACTOR VEHICLE 1      147\n",
      "CONTRIBUTING FACTOR VEHICLE 2     8371\n",
      "CONTRIBUTING FACTOR VEHICLE 3    56283\n",
      "CONTRIBUTING FACTOR VEHICLE 4    59330\n",
      "CONTRIBUTING FACTOR VEHICLE 5    59925\n",
      "COLLISION_ID                         0\n",
      "VEHICLE TYPE CODE 1                297\n",
      "VEHICLE TYPE CODE 2              11619\n",
      "VEHICLE TYPE CODE 3              56453\n",
      "VEHICLE TYPE CODE 4              59363\n",
      "VEHICLE TYPE CODE 5              59933\n",
      "dtype: int64\n"
     ]
    }
   ],
   "source": [
    "# Study columns missing values for collisions_2018.\n",
    "missing_values_2018 = summer_collisions_2018.isna().sum()\n",
    "\n",
    "# Study columns missing values for collisions_2020.\n",
    "missing_values_2020 = summer_collisions_2020.isna().sum()\n",
    "\n",
    "# Display missing values for both dataframes.\n",
    "print(\"Missing values in 2018:\")\n",
    "print(missing_values_2018)"
   ]
  },
  {
   "cell_type": "code",
   "execution_count": 148,
   "metadata": {},
   "outputs": [
    {
     "name": "stdout",
     "output_type": "stream",
     "text": [
      "The summer_2018 dataset shape is:  (60145, 29)\n"
     ]
    }
   ],
   "source": [
    "print('The summer_2018 dataset shape is: ', summer_collisions_2018.shape)"
   ]
  },
  {
   "cell_type": "code",
   "execution_count": 149,
   "metadata": {},
   "outputs": [
    {
     "name": "stdout",
     "output_type": "stream",
     "text": [
      "\n",
      "Missing values in 2020:\n",
      "CRASH DATE                           0\n",
      "CRASH TIME                           0\n",
      "BOROUGH                           9110\n",
      "ZIP CODE                          9112\n",
      "LATITUDE                          2119\n",
      "LONGITUDE                         2119\n",
      "LOCATION                          2119\n",
      "ON STREET NAME                    7380\n",
      "CROSS STREET NAME                14506\n",
      "OFF STREET NAME                  19367\n",
      "NUMBER OF PERSONS INJURED            0\n",
      "NUMBER OF PERSONS KILLED             0\n",
      "NUMBER OF PEDESTRIANS INJURED        0\n",
      "NUMBER OF PEDESTRIANS KILLED         0\n",
      "NUMBER OF CYCLIST INJURED            0\n",
      "NUMBER OF CYCLIST KILLED             0\n",
      "NUMBER OF MOTORIST INJURED           0\n",
      "NUMBER OF MOTORIST KILLED            0\n",
      "CONTRIBUTING FACTOR VEHICLE 1      119\n",
      "CONTRIBUTING FACTOR VEHICLE 2     6315\n",
      "CONTRIBUTING FACTOR VEHICLE 3    23843\n",
      "CONTRIBUTING FACTOR VEHICLE 4    25923\n",
      "CONTRIBUTING FACTOR VEHICLE 5    26508\n",
      "COLLISION_ID                         0\n",
      "VEHICLE TYPE CODE 1                242\n",
      "VEHICLE TYPE CODE 2               8980\n",
      "VEHICLE TYPE CODE 3              24017\n",
      "VEHICLE TYPE CODE 4              25970\n",
      "VEHICLE TYPE CODE 5              26516\n",
      "dtype: int64\n"
     ]
    }
   ],
   "source": [
    "print(\"\\nMissing values in 2020:\")\n",
    "print(missing_values_2020)"
   ]
  },
  {
   "cell_type": "code",
   "execution_count": 150,
   "metadata": {},
   "outputs": [
    {
     "name": "stdout",
     "output_type": "stream",
     "text": [
      "The summer_2020 dataset shape is:  (26747, 29)\n"
     ]
    }
   ],
   "source": [
    "print('The summer_2020 dataset shape is: ', summer_collisions_2020.shape)"
   ]
  },
  {
   "cell_type": "code",
   "execution_count": 151,
   "metadata": {},
   "outputs": [],
   "source": [
    "# We will differentiate the information contained in the columns of the dataset into the following categories:\n",
    "# Columns that identify collision in time.\n",
    "time_columns = [\n",
    "    'CRASH DATE',\n",
    "    'CRASH TIME',\n",
    "    'BOROUGH',\n",
    "    'ZIP CODE',\n",
    "    'COLLISION_ID']\n",
    "\n",
    "# Columns that identify collision in space (locally).\n",
    "location_columns = [\n",
    "    'ON STREET NAME', \n",
    "    'CROSS STREET NAME',\n",
    "    'OFF STREET NAME'\n",
    "]\n",
    "\n",
    "# Columns about coordinate location of the collision.\n",
    "coordinates = [\n",
    "    'LATITUDE',\n",
    "    'LONGITUDE'\n",
    "]\n",
    "\n",
    "# Columns that identify the people involved in the collision.\n",
    "people_involved = [\n",
    "    'NUMBER OF PERSONS INJURED',\n",
    "    'NUMBER OF PERSONS KILLED',\n",
    "    'NUMBER OF PEDESTRIANS INJURED',\n",
    "    'NUMBER OF PEDESTRIANS KILLED',\n",
    "    'NUMBER OF CYCLIST INJURED',\n",
    "    'NUMBER OF CYCLIST KILLED',\n",
    "    'NUMBER OF MOTORIST INJURED',\n",
    "    'NUMBER OF MOTORIST KILLED'\n",
    "]\n",
    "\n",
    "# Columns about factors contributing to the collision.\n",
    "contributing_factor_vehicle = [\n",
    "    'CONTRIBUTING FACTOR VEHICLE 1',\n",
    "    'CONTRIBUTING FACTOR VEHICLE 2',\n",
    "    'CONTRIBUTING FACTOR VEHICLE 3',\n",
    "    'CONTRIBUTING FACTOR VEHICLE 4',\n",
    "    'CONTRIBUTING FACTOR VEHICLE 5'\n",
    "]\n",
    "\n",
    "# Columns about the type of vehicles involved in the collision.\n",
    "vehicle_type = [\n",
    "    'VEHICLE TYPE CODE 1',\n",
    "    'VEHICLE TYPE CODE 2',\n",
    "    'VEHICLE TYPE CODE 3',\n",
    "    'VEHICLE TYPE CODE 4',\n",
    "    'VEHICLE TYPE CODE 5'\n",
    "]"
   ]
  },
  {
   "cell_type": "code",
   "execution_count": 152,
   "metadata": {},
   "outputs": [],
   "source": [
    "# Defines columns of interest.\n",
    "columns_of_interest = time_columns + coordinates + vehicle_type\n",
    "\n",
    "# Function to filter and keep only the columns of interest.\n",
    "def filter_columns_of_interest(df):\n",
    "    # Get columns to drop that are not in columns_of_interest.\n",
    "    columns_to_drop = [col for col in df.columns if col not in columns_of_interest]\n",
    "    \n",
    "    # Drop columns not in columns_of_interest.\n",
    "    df = df.drop(columns=columns_to_drop)\n",
    "    \n",
    "    return df\n",
    "\n",
    "# Filter columns of interest for both summer_collisions_2018 and summer_collisions_2020.\n",
    "summer_collisions_2018 = filter_columns_of_interest(summer_collisions_2018)\n",
    "summer_collisions_2020 = filter_columns_of_interest(summer_collisions_2020)"
   ]
  },
  {
   "cell_type": "code",
   "execution_count": 153,
   "metadata": {},
   "outputs": [
    {
     "name": "stdout",
     "output_type": "stream",
     "text": [
      "CRASH DATE                 0\n",
      "CRASH TIME                 0\n",
      "BOROUGH                    0\n",
      "ZIP CODE                   0\n",
      "LATITUDE                   0\n",
      "LONGITUDE                  0\n",
      "COLLISION_ID               0\n",
      "VEHICLE TYPE CODE 1        0\n",
      "VEHICLE TYPE CODE 2        0\n",
      "VEHICLE TYPE CODE 3    27430\n",
      "VEHICLE TYPE CODE 4    28915\n",
      "VEHICLE TYPE CODE 5    29220\n",
      "dtype: int64\n",
      "The collisions dataset with useful columns shape is:  (29342, 12)\n",
      "CRASH DATE                 0\n",
      "CRASH TIME                 0\n",
      "BOROUGH                    0\n",
      "ZIP CODE                   0\n",
      "LATITUDE                   0\n",
      "LONGITUDE                  0\n",
      "COLLISION_ID               0\n",
      "VEHICLE TYPE CODE 1        0\n",
      "VEHICLE TYPE CODE 2        0\n",
      "VEHICLE TYPE CODE 3     9389\n",
      "VEHICLE TYPE CODE 4    10463\n",
      "VEHICLE TYPE CODE 5    10795\n",
      "dtype: int64\n",
      "The collisions dataset with useful columns shape is:  (10939, 12)\n"
     ]
    }
   ],
   "source": [
    "# Function to process the datasets with specified criteria on information category selection.\n",
    "def manage_missing_values(collisions_df):\n",
    "    # Replace 'Unspecified' with NaN values.\n",
    "    collisions_df = collisions_df.replace('Unspecified', np.nan)\n",
    "    \n",
    "    # Drops rows with missing values.\n",
    "    collisions_df = collisions_df.dropna(subset=time_columns, how='any')\n",
    "    collisions_df = collisions_df.dropna(subset=coordinates, how='any')\n",
    "    \n",
    "    # Drops rows with missing values in vehicle_type where at least one type is specified.\n",
    "    collisions_df = collisions_df.dropna(subset=vehicle_type, thresh=2)\n",
    "    \n",
    "    # Output missing values\n",
    "    missing_values = collisions_df.isna().sum()\n",
    "    print(missing_values)\n",
    "    print('The collisions dataset with useful columns shape is: ', collisions_df.shape)\n",
    "    \n",
    "    return collisions_df\n",
    "\n",
    "# Process both DataFrames\n",
    "summer_collisions_2018 = manage_missing_values(summer_collisions_2018)\n",
    "summer_collisions_2020 = manage_missing_values(summer_collisions_2020)\n"
   ]
  },
  {
   "cell_type": "code",
   "execution_count": 158,
   "metadata": {},
   "outputs": [],
   "source": [
    "# Function to add a column indicating weekday or weekend.\n",
    "def add_daytype(df):\n",
    "    # Add a new column indicating weekday (1) or weekend (0).\n",
    "    df['daytype'] = (df['CRASH DATE'].dt.dayofweek // 5 == 1).astype(int)\n",
    "    \n",
    "    return df\n",
    "\n",
    "# Add the weekday/weekend (day type) column for both DataFrames.\n",
    "summer_collisions_2018 = add_daytype(summer_collisions_2018)\n",
    "summer_collisions_2020 = add_daytype(summer_collisions_2020)\n"
   ]
  },
  {
   "cell_type": "code",
   "execution_count": 159,
   "metadata": {},
   "outputs": [],
   "source": [
    "# Function to add a column indicating COVID restriction days.\n",
    "def add_covid_restrictions(df, threshold_date):\n",
    "    df['COVID-19 RESTRICTIONS'] = (df['CRASH DATE'] >= threshold_date).astype(int)\n",
    "    return df\n",
    "\n",
    "# Threshold date for COVID restrictions.\n",
    "covid_threshold_date = pd.to_datetime('2020-03-15')\n",
    "\n",
    "# Add the COVID restriction column for both DataFrames.\n",
    "summer_collisions_2018 = add_covid_restrictions(summer_collisions_2018, covid_threshold_date)\n",
    "summer_collisions_2020 = add_covid_restrictions(summer_collisions_2020, covid_threshold_date)"
   ]
  },
  {
   "cell_type": "code",
   "execution_count": null,
   "metadata": {},
   "outputs": [
    {
     "name": "stdout",
     "output_type": "stream",
     "text": [
      "Memory usage is:  12.40775203704834\n"
     ]
    }
   ],
   "source": [
    "def memory_usage(summer_collisions):\n",
    "    memory_usage = summer_collisions.memory_usage(deep=True).sum() / (1024**2)  # In Megabytes.\n",
    "    return memory_usage\n",
    "\n",
    "# Calculate memory usage for both datasets.\n",
    "memory_usage_2018 = memory_usage(summer_collisions_2018)\n",
    "memory_usage_2020 = memory_usage(summer_collisions_2020)\n",
    "\n",
    "print('Memory usage for summer_collisions_2018 is: ', memory_usage_2018, ' MB')\n",
    "print('Memory usage for summer_collisions_2020 is: ', memory_usage_2020, ' MB')"
   ]
  },
  {
   "cell_type": "code",
   "execution_count": null,
   "metadata": {},
   "outputs": [],
   "source": [
    "# Reset index for summer_collisions_2018 dataset.\n",
    "summer_collisions_2018.reset_index(drop=True, inplace=True)\n",
    "\n",
    "# Reset index for summer_collisions_2020 dataset.\n",
    "summer_collisions_2020.reset_index(drop=True, inplace=True)"
   ]
  },
  {
   "cell_type": "code",
   "execution_count": null,
   "metadata": {},
   "outputs": [],
   "source": [
    "# Store datasets in pickle format.\n",
    "summer_collisions_2018.to_pickle('summer_collisions_2018', compression='bz2')\n",
    "summer_collisions_2020.to_pickle('summer_collisions_2020', compression='bz2')"
   ]
  }
 ],
 "metadata": {
  "kernelspec": {
   "display_name": "base",
   "language": "python",
   "name": "python3"
  },
  "language_info": {
   "codemirror_mode": {
    "name": "ipython",
    "version": 3
   },
   "file_extension": ".py",
   "mimetype": "text/x-python",
   "name": "python",
   "nbconvert_exporter": "python",
   "pygments_lexer": "ipython3",
   "version": "3.11.5"
  }
 },
 "nbformat": 4,
 "nbformat_minor": 2
}
