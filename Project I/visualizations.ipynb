{
 "cells": [
  {
   "cell_type": "markdown",
   "metadata": {},
   "source": [
    "# Imports & settings"
   ]
  },
  {
   "cell_type": "code",
   "execution_count": null,
   "metadata": {},
   "outputs": [],
   "source": [
    "from altair_saver import save\n",
    "import streamlit as st\n",
    "import altair as alt\n",
    "import folium\n",
    "import pandas as pd\n",
    "import numpy as np\n",
    "import pickle\n",
    "import time\n",
    "import os"
   ]
  },
  {
   "cell_type": "code",
   "execution_count": null,
   "metadata": {},
   "outputs": [],
   "source": [
    "def load_processed_data(file_path):\n",
    "    \"\"\"\n",
    "        Loads the processed datasets stored in pickle foramt, if they don't exist, it preprocesses the raw data.\n",
    "    \"\"\"\n",
    "\n",
    "    if os.path.exists(file_path):\n",
    "        with open(file_path, 'rb') as file:\n",
    "            data = pickle.load(file)\n",
    "        print(f\"Preprocessed dataset {file_path} already exists. The dataset is loaded.\")\n",
    "\n",
    "        return data\n",
    "\n",
    "    else:\n",
    "        print(f\"You have to run the preprocessing notebook before conduct any visualization.\")\n",
    "\n",
    "summer_collisions_2018 = load_processed_data('preprocessed_data/summer_collisions_2018.pkl')\n",
    "summer_collisions_2020 = load_processed_data('preprocessed_data/summer_collisions_2020.pkl')\n",
    "summer_weather_2018 = load_processed_data('preprocessed_data/summer_weather_2018.pkl')\n",
    "summer_weather_2020 = load_processed_data('preprocessed_data/summer_weather_2020.pkl')"
   ]
  },
  {
   "cell_type": "markdown",
   "metadata": {},
   "source": [
    "# Visualizations"
   ]
  },
  {
   "cell_type": "code",
   "execution_count": null,
   "metadata": {},
   "outputs": [],
   "source": [
    "alt.data_transformers.disable_max_rows()"
   ]
  },
  {
   "cell_type": "code",
   "execution_count": null,
   "metadata": {},
   "outputs": [],
   "source": [
    "# Combines the two datasets.\n",
    "summer_collisions = pd.concat([summer_collisions_2018, summer_collisions_2020])"
   ]
  },
  {
   "cell_type": "code",
   "execution_count": null,
   "metadata": {},
   "outputs": [],
   "source": [
    "# Create a grouped bar chart.\n",
    "alt.Chart(summer_collisions).mark_bar().encode(\n",
    "    x=alt.X('DAY TYPE:N', axis=alt.Axis(title='Day Type', labelAngle=0)),\n",
    "    y=alt.Y('count():Q', axis=alt.Axis(title='Number of collisions')),\n",
    "    color=alt.Color('COVID-19 RESTRICTIONS:N', legend=alt.Legend(title='Dictated restrictions'))\n",
    ").properties(\n",
    "    title='Vehicle collisions and Covid-19 restrictions',\n",
    "    width=200\n",
    ")\n"
   ]
  },
  {
   "cell_type": "code",
   "execution_count": null,
   "metadata": {},
   "outputs": [],
   "source": [
    "# Extract the hour from the 'CRASH TIME' column\n",
    "summer_collisions['Hour'] = pd.to_datetime(summer_collisions['CRASH TIME']).dt.hour"
   ]
  },
  {
   "cell_type": "code",
   "execution_count": null,
   "metadata": {},
   "outputs": [],
   "source": [
    "alt.Chart(summer_collisions).mark_bar().encode(\n",
    "    x=alt.X('Hour:O', axis=alt.Axis(title='Hour of the day')),\n",
    "    y=alt.Y('count():Q', axis=alt.Axis(title='Number of collisions')),\n",
    ").properties(\n",
    "    title='Distribution of vehicle collisions by hour of the day',\n",
    "    width=600\n",
    ")"
   ]
  },
  {
   "cell_type": "code",
   "execution_count": null,
   "metadata": {},
   "outputs": [],
   "source": [
    "# Group by ZIP code and calculate the total number of collisions and average coordinates in each ZIP code\n",
    "zip_grouped = summer_collisions.groupby('ZIP CODE').agg({\n",
    "    'LATITUDE': 'first',\n",
    "    'LONGITUDE': 'mean',\n",
    "    'CRASH TIME': 'count'\n",
    "}).reset_index()\n",
    "\n",
    "# Create a Folium map of NYC using OpenStreetMap tiles\n",
    "nyc_map = folium.Map(location=[40.7128, -74.0060], tiles='OpenStreetMap', zoom_start=11)\n",
    "\n",
    "# Add markers for each ZIP code with aggregated information\n",
    "for index, row in zip_grouped.iterrows():\n",
    "    folium.CircleMarker(\n",
    "        location=[row['LATITUDE'], row['LONGITUDE']], \n",
    "        radius=row['CRASH TIME'] * 0.1,  # Adjust the radius based on the number of collisions\n",
    "        fill=True, \n",
    "        color='blue'\n",
    "    ).add_to(nyc_map)\n",
    "\n",
    "# Save the Folium map as an HTML file\n",
    "nyc_map.save('nyc_map_grouped.html')"
   ]
  },
  {
   "cell_type": "code",
   "execution_count": null,
   "metadata": {},
   "outputs": [],
   "source": [
    "zip_grouped.head()"
   ]
  },
  {
   "cell_type": "code",
   "execution_count": null,
   "metadata": {},
   "outputs": [],
   "source": [
    "# Melt the DataFrame to transform it into a long format\n",
    "melted_data = pd.melt(summer_collisions, value_vars=['VEHICLE TYPE CODE 1', 'VEHICLE TYPE CODE 2', 'VEHICLE TYPE CODE 3', 'VEHICLE TYPE CODE 4', 'VEHICLE TYPE CODE 5'], var_name='VEHICLE TYPE')\n",
    "melted_data.describe()"
   ]
  },
  {
   "cell_type": "code",
   "execution_count": null,
   "metadata": {},
   "outputs": [],
   "source": [
    "alt.Chart(melted_data).mark_bar().encode(\n",
    "    x=alt.X('VEHICLE TYPE:N', axis=alt.Axis(title='Vehicle Type Code')),\n",
    "    y=alt.Y('count():Q', axis=alt.Axis(title='Frequency')),\n",
    ").properties(\n",
    "    title='Frequency of Vehicle Type Codes in Collisions',\n",
    "    width=600\n",
    ")"
   ]
  },
  {
   "cell_type": "code",
   "execution_count": null,
   "metadata": {},
   "outputs": [],
   "source": [
    "grouped_data = summer_collisions.groupby('ZIP CODE').agg({'LATITUDE': 'mean', 'LONGITUDE': 'mean', 'CRASH TIME': 'count'}).reset_index()\n",
    "grouped_data = grouped_data.rename(columns={'CRASH TIME': 'COLLISIONS'})"
   ]
  },
  {
   "cell_type": "code",
   "execution_count": null,
   "metadata": {},
   "outputs": [],
   "source": [
    "grouped_data.head()"
   ]
  },
  {
   "cell_type": "code",
   "execution_count": null,
   "metadata": {},
   "outputs": [],
   "source": [
    "# Scatter plot for aggregated car crashes\n",
    "points = alt.Chart(grouped_data).mark_circle().encode(\n",
    "    longitude='LONGITUDE:Q',\n",
    "    latitude='LATITUDE:Q',\n",
    "    size='COLLISIONS:Q',\n",
    "    tooltip=['ZIP CODE:N', 'COLLISIONS:Q']\n",
    ").properties(\n",
    "    title='NYC Car Crashes by ZIP Code'\n",
    ")"
   ]
  },
  {
   "cell_type": "code",
   "execution_count": null,
   "metadata": {},
   "outputs": [],
   "source": [
    "# Create a folium map centered around NYC with OSM tiles\n",
    "nyc_map = folium.Map(location=[40.7128, -74.0060], zoom_start=12, tiles='OpenStreetMap')"
   ]
  },
  {
   "cell_type": "code",
   "execution_count": null,
   "metadata": {},
   "outputs": [],
   "source": [
    "altair_json = points.to_json()\n",
    "# Add Altair chart as an HTML iframe to Folium map\n",
    "folium.IFrame(html=altair_json, width=600, height=400).add_to(nyc_map)\n",
    "\n",
    "# Save the combined map as an HTML file\n",
    "nyc_map.save('nyc_combined_map.html')\n",
    "\n",
    "# Open the HTML file in your web browser to visualize the map\n",
    "import webbrowser\n",
    "webbrowser.open('nyc_combined_map.html')"
   ]
  }
 ],
 "metadata": {
  "kernelspec": {
   "display_name": "base",
   "language": "python",
   "name": "python3"
  },
  "language_info": {
   "codemirror_mode": {
    "name": "ipython",
    "version": 3
   },
   "file_extension": ".py",
   "mimetype": "text/x-python",
   "name": "python",
   "nbconvert_exporter": "python",
   "pygments_lexer": "ipython3",
   "version": "3.11.5"
  }
 },
 "nbformat": 4,
 "nbformat_minor": 2
}
