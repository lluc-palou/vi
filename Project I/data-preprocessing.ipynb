{
 "cells": [
  {
   "cell_type": "markdown",
   "metadata": {},
   "source": [
    "# Imports & settings"
   ]
  },
  {
   "cell_type": "code",
   "execution_count": 156,
   "metadata": {},
   "outputs": [],
   "source": [
    "import pandas as pd\n",
    "import numpy as np"
   ]
  },
  {
   "cell_type": "markdown",
   "metadata": {},
   "source": [
    "# Collisions dataset preprocessing"
   ]
  },
  {
   "cell_type": "code",
   "execution_count": 157,
   "metadata": {},
   "outputs": [
    {
     "name": "stderr",
     "output_type": "stream",
     "text": [
      "C:\\Users\\llucp\\AppData\\Local\\Temp\\ipykernel_18644\\2252351059.py:2: DtypeWarning: Columns (3) have mixed types. Specify dtype option on import or set low_memory=False.\n",
      "  collisions = pd.read_csv('data/collisions.csv')\n"
     ]
    }
   ],
   "source": [
    "# Loads the downloaded raw collision data (entire dataset).\n",
    "collisions = pd.read_csv('data/collisions.csv')"
   ]
  },
  {
   "cell_type": "code",
   "execution_count": 158,
   "metadata": {},
   "outputs": [
    {
     "name": "stdout",
     "output_type": "stream",
     "text": [
      "The collisions raw dataset shape is:  (2034951, 29)\n"
     ]
    }
   ],
   "source": [
    "# Dataset inspection.\n",
    "print('The collisions raw dataset shape is: ', collisions.shape)"
   ]
  },
  {
   "cell_type": "code",
   "execution_count": 159,
   "metadata": {},
   "outputs": [
    {
     "name": "stdout",
     "output_type": "stream",
     "text": [
      "The collisions raw dataset columns are:  Index(['CRASH DATE', 'CRASH TIME', 'BOROUGH', 'ZIP CODE', 'LATITUDE',\n",
      "       'LONGITUDE', 'LOCATION', 'ON STREET NAME', 'CROSS STREET NAME',\n",
      "       'OFF STREET NAME', 'NUMBER OF PERSONS INJURED',\n",
      "       'NUMBER OF PERSONS KILLED', 'NUMBER OF PEDESTRIANS INJURED',\n",
      "       'NUMBER OF PEDESTRIANS KILLED', 'NUMBER OF CYCLIST INJURED',\n",
      "       'NUMBER OF CYCLIST KILLED', 'NUMBER OF MOTORIST INJURED',\n",
      "       'NUMBER OF MOTORIST KILLED', 'CONTRIBUTING FACTOR VEHICLE 1',\n",
      "       'CONTRIBUTING FACTOR VEHICLE 2', 'CONTRIBUTING FACTOR VEHICLE 3',\n",
      "       'CONTRIBUTING FACTOR VEHICLE 4', 'CONTRIBUTING FACTOR VEHICLE 5',\n",
      "       'COLLISION_ID', 'VEHICLE TYPE CODE 1', 'VEHICLE TYPE CODE 2',\n",
      "       'VEHICLE TYPE CODE 3', 'VEHICLE TYPE CODE 4', 'VEHICLE TYPE CODE 5'],\n",
      "      dtype='object')\n"
     ]
    }
   ],
   "source": [
    "print('The collisions raw dataset columns are: ', collisions.columns)"
   ]
  },
  {
   "cell_type": "code",
   "execution_count": 160,
   "metadata": {},
   "outputs": [
    {
     "name": "stdout",
     "output_type": "stream",
     "text": [
      "Collisions raw dataset variable types:  CRASH DATE                        object\n",
      "CRASH TIME                        object\n",
      "BOROUGH                           object\n",
      "ZIP CODE                          object\n",
      "LATITUDE                         float64\n",
      "LONGITUDE                        float64\n",
      "LOCATION                          object\n",
      "ON STREET NAME                    object\n",
      "CROSS STREET NAME                 object\n",
      "OFF STREET NAME                   object\n",
      "NUMBER OF PERSONS INJURED        float64\n",
      "NUMBER OF PERSONS KILLED         float64\n",
      "NUMBER OF PEDESTRIANS INJURED      int64\n",
      "NUMBER OF PEDESTRIANS KILLED       int64\n",
      "NUMBER OF CYCLIST INJURED          int64\n",
      "NUMBER OF CYCLIST KILLED           int64\n",
      "NUMBER OF MOTORIST INJURED         int64\n",
      "NUMBER OF MOTORIST KILLED          int64\n",
      "CONTRIBUTING FACTOR VEHICLE 1     object\n",
      "CONTRIBUTING FACTOR VEHICLE 2     object\n",
      "CONTRIBUTING FACTOR VEHICLE 3     object\n",
      "CONTRIBUTING FACTOR VEHICLE 4     object\n",
      "CONTRIBUTING FACTOR VEHICLE 5     object\n",
      "COLLISION_ID                       int64\n",
      "VEHICLE TYPE CODE 1               object\n",
      "VEHICLE TYPE CODE 2               object\n",
      "VEHICLE TYPE CODE 3               object\n",
      "VEHICLE TYPE CODE 4               object\n",
      "VEHICLE TYPE CODE 5               object\n",
      "dtype: object\n"
     ]
    }
   ],
   "source": [
    "print('Collisions raw dataset variable types: ', collisions.dtypes)"
   ]
  },
  {
   "cell_type": "code",
   "execution_count": 161,
   "metadata": {},
   "outputs": [
    {
     "name": "stdout",
     "output_type": "stream",
     "text": [
      "Some rows of the collisions raw dataset:     CRASH DATE CRASH TIME   BOROUGH ZIP CODE   LATITUDE  LONGITUDE  \\\n",
      "0  09/11/2021       2:39       NaN      NaN        NaN        NaN   \n",
      "1  03/26/2022      11:45       NaN      NaN        NaN        NaN   \n",
      "2  06/29/2022       6:55       NaN      NaN        NaN        NaN   \n",
      "3  09/11/2021       9:35  BROOKLYN  11208.0  40.667202 -73.866500   \n",
      "4  12/14/2021       8:13  BROOKLYN  11233.0  40.683304 -73.917274   \n",
      "\n",
      "                  LOCATION           ON STREET NAME CROSS STREET NAME  \\\n",
      "0                      NaN    WHITESTONE EXPRESSWAY         20 AVENUE   \n",
      "1                      NaN  QUEENSBORO BRIDGE UPPER               NaN   \n",
      "2                      NaN       THROGS NECK BRIDGE               NaN   \n",
      "3    (40.667202, -73.8665)                      NaN               NaN   \n",
      "4  (40.683304, -73.917274)          SARATOGA AVENUE    DECATUR STREET   \n",
      "\n",
      "           OFF STREET NAME  ...  CONTRIBUTING FACTOR VEHICLE 2  \\\n",
      "0                      NaN  ...                    Unspecified   \n",
      "1                      NaN  ...                            NaN   \n",
      "2                      NaN  ...                    Unspecified   \n",
      "3  1211      LORING AVENUE  ...                            NaN   \n",
      "4                      NaN  ...                            NaN   \n",
      "\n",
      "   CONTRIBUTING FACTOR VEHICLE 3  CONTRIBUTING FACTOR VEHICLE 4  \\\n",
      "0                            NaN                            NaN   \n",
      "1                            NaN                            NaN   \n",
      "2                            NaN                            NaN   \n",
      "3                            NaN                            NaN   \n",
      "4                            NaN                            NaN   \n",
      "\n",
      "   CONTRIBUTING FACTOR VEHICLE 5  COLLISION_ID  VEHICLE TYPE CODE 1  \\\n",
      "0                            NaN       4455765                Sedan   \n",
      "1                            NaN       4513547                Sedan   \n",
      "2                            NaN       4541903                Sedan   \n",
      "3                            NaN       4456314                Sedan   \n",
      "4                            NaN       4486609                  NaN   \n",
      "\n",
      "   VEHICLE TYPE CODE 2  VEHICLE TYPE CODE 3 VEHICLE TYPE CODE 4  \\\n",
      "0                Sedan                  NaN                 NaN   \n",
      "1                  NaN                  NaN                 NaN   \n",
      "2        Pick-up Truck                  NaN                 NaN   \n",
      "3                  NaN                  NaN                 NaN   \n",
      "4                  NaN                  NaN                 NaN   \n",
      "\n",
      "  VEHICLE TYPE CODE 5  \n",
      "0                 NaN  \n",
      "1                 NaN  \n",
      "2                 NaN  \n",
      "3                 NaN  \n",
      "4                 NaN  \n",
      "\n",
      "[5 rows x 29 columns]\n"
     ]
    }
   ],
   "source": [
    "print('Some rows of the collisions raw dataset: ', collisions.head())"
   ]
  },
  {
   "cell_type": "code",
   "execution_count": 162,
   "metadata": {},
   "outputs": [],
   "source": [
    "# Convert the \"CRASH DATE\" column to a datetime format.\n",
    "collisions['CRASH DATE'] = pd.to_datetime(collisions['CRASH DATE'], format='%m/%d/%Y')\n",
    "\n",
    "# Filter the data for the year 2018.\n",
    "collisions_2018 = collisions[collisions['CRASH DATE'].dt.year == 2018]\n",
    "\n",
    "# Filter the data for the year 2020.\n",
    "collisions_2020 = collisions[collisions['CRASH DATE'].dt.year == 2020]"
   ]
  },
  {
   "cell_type": "code",
   "execution_count": 163,
   "metadata": {},
   "outputs": [
    {
     "data": {
      "text/plain": [
       "CRASH DATE                            0\n",
       "CRASH TIME                            0\n",
       "BOROUGH                           39228\n",
       "ZIP CODE                          39236\n",
       "LATITUDE                           8917\n",
       "LONGITUDE                          8917\n",
       "LOCATION                           8917\n",
       "ON STREET NAME                    29460\n",
       "CROSS STREET NAME                 59628\n",
       "OFF STREET NAME                   83456\n",
       "NUMBER OF PERSONS INJURED             0\n",
       "NUMBER OF PERSONS KILLED              0\n",
       "NUMBER OF PEDESTRIANS INJURED         0\n",
       "NUMBER OF PEDESTRIANS KILLED          0\n",
       "NUMBER OF CYCLIST INJURED             0\n",
       "NUMBER OF CYCLIST KILLED              0\n",
       "NUMBER OF MOTORIST INJURED            0\n",
       "NUMBER OF MOTORIST KILLED             0\n",
       "CONTRIBUTING FACTOR VEHICLE 1       512\n",
       "CONTRIBUTING FACTOR VEHICLE 2     24624\n",
       "CONTRIBUTING FACTOR VEHICLE 3    102208\n",
       "CONTRIBUTING FACTOR VEHICLE 4    110006\n",
       "CONTRIBUTING FACTOR VEHICLE 5    112063\n",
       "COLLISION_ID                          0\n",
       "VEHICLE TYPE CODE 1                1073\n",
       "VEHICLE TYPE CODE 2               34133\n",
       "VEHICLE TYPE CODE 3              102820\n",
       "VEHICLE TYPE CODE 4              110132\n",
       "VEHICLE TYPE CODE 5              112091\n",
       "dtype: int64"
      ]
     },
     "execution_count": 163,
     "metadata": {},
     "output_type": "execute_result"
    }
   ],
   "source": [
    "# Study columns missing values:\n",
    "collisions = collisions_2020\n",
    "missing_values = collisions.isna().sum()\n",
    "missing_values"
   ]
  },
  {
   "cell_type": "code",
   "execution_count": 164,
   "metadata": {},
   "outputs": [],
   "source": [
    "# The following are the columns we are interestedd in to perform the visualizations.\n",
    "# Key columns we need to identify the collision.\n",
    "key_columns = [\n",
    "    'CRASH DATE',\n",
    "    'CRASH TIME',\n",
    "    'BOROUGH',\n",
    "    'ZIP CODE',\n",
    "    'ON STREET NAME',\n",
    "    'CROSS STREET NAME',\n",
    "    'OFF STREET NAME',\n",
    "    'COLLISION_ID']\n",
    "\n",
    "# Coordinates locate collision univocaly.\n",
    "coordinates = [\n",
    "    'LATITUDE',\n",
    "    'LONGITUDE'\n",
    "]\n",
    "\n",
    "# Columns we need to identify the vehicles involved in the collision.\n",
    "contributing_factor_vehicle = [\n",
    "    'CONTRIBUTING FACTOR VEHICLE 1',\n",
    "    'CONTRIBUTING FACTOR VEHICLE 2',\n",
    "    'CONTRIBUTING FACTOR VEHICLE 3',\n",
    "    'CONTRIBUTING FACTOR VEHICLE 4',\n",
    "    'CONTRIBUTING FACTOR VEHICLE 5'\n",
    "]\n",
    "\n",
    "vehicle_type = [\n",
    "    'VEHICLE TYPE CODE 1',\n",
    "    'VEHICLE TYPE CODE 2',\n",
    "    'VEHICLE TYPE CODE 3',\n",
    "    'VEHICLE TYPE CODE 4',\n",
    "    'VEHICLE TYPE CODE 5'\n",
    "]\n",
    "\n",
    "# Columns we need to identify the people involved in the collision.\n",
    "people_involved = [\n",
    "    'NUMBER OF PERSONS INJURED',\n",
    "    'NUMBER OF PERSONS KILLED',\n",
    "    'NUMBER OF PEDESTRIANS INJURED',\n",
    "    'NUMBER OF PEDESTRIANS KILLED',\n",
    "    'NUMBER OF CYCLIST INJURED',\n",
    "    'NUMBER OF CYCLIST KILLED',\n",
    "    'NUMBER OF MOTORIST INJURED',\n",
    "    'NUMBER OF MOTORIST KILLED'\n",
    "]"
   ]
  },
  {
   "cell_type": "code",
   "execution_count": 165,
   "metadata": {},
   "outputs": [],
   "source": [
    "# We create a new dataset with the columns we are interested in.\n",
    "collisions = collisions[key_columns+coordinates+contributing_factor_vehicle+vehicle_type]"
   ]
  },
  {
   "cell_type": "code",
   "execution_count": 166,
   "metadata": {},
   "outputs": [
    {
     "name": "stdout",
     "output_type": "stream",
     "text": [
      "The collisions dataset with useful columns shape is:  (75422, 20)\n"
     ]
    }
   ],
   "source": [
    "# We remove all rows that have missing values.\n",
    "collisions = collisions.replace('Unspecified', np.nan)\n",
    "collisions = collisions.dropna(subset=coordinates, how='any') # We remove all rows that haven't specified coordinates.\n",
    "collisions = collisions.dropna(subset=vehicle_type, thresh=1) # We remove all rows that haven't sepecified at least one vehicle type.\n",
    "collisions = collisions.dropna(subset=contributing_factor_vehicle, thresh=1) # We remove all rows that haven't sepecified at least one contributing factor.\n",
    "missing_values = collisions.isna().sum()\n",
    "missing_values\n",
    "print('The collisions dataset with useful columns shape is: ', collisions.shape)"
   ]
  },
  {
   "cell_type": "code",
   "execution_count": 167,
   "metadata": {},
   "outputs": [
    {
     "name": "stdout",
     "output_type": "stream",
     "text": [
      "Memory usage is:  58.8120174407959\n"
     ]
    }
   ],
   "source": [
    "memory_usage = collisions.memory_usage(deep=True).sum() / (1024**2)  # Convert to megabytes\n",
    "print('Memory usage is: ', memory_usage)"
   ]
  }
 ],
 "metadata": {
  "kernelspec": {
   "display_name": "base",
   "language": "python",
   "name": "python3"
  },
  "language_info": {
   "codemirror_mode": {
    "name": "ipython",
    "version": 3
   },
   "file_extension": ".py",
   "mimetype": "text/x-python",
   "name": "python",
   "nbconvert_exporter": "python",
   "pygments_lexer": "ipython3",
   "version": "3.11.5"
  }
 },
 "nbformat": 4,
 "nbformat_minor": 2
}
