{
 "cells": [
  {
   "cell_type": "code",
   "execution_count": 46,
   "metadata": {
    "id": "K4WroN61HXN0"
   },
   "outputs": [],
   "source": [
    "import pandas as pd\n",
    "import numpy as np\n",
    "import pickle"
   ]
  },
  {
   "cell_type": "markdown",
   "metadata": {
    "id": "shT8tjJ8HoUL"
   },
   "source": [
    "PREPROCESSING\n",
    "---"
   ]
  },
  {
   "cell_type": "markdown",
   "metadata": {
    "id": "dTa0OexDHs-s"
   },
   "source": [
    "1. Collisions dataset preprocessing\n",
    "---"
   ]
  },
  {
   "cell_type": "code",
   "execution_count": 47,
   "metadata": {
    "colab": {
     "base_uri": "https://localhost:8080/"
    },
    "id": "Nvfh0Q8vHxFU",
    "outputId": "a942f778-9521-40a3-bbaf-73ccd201139d"
   },
   "outputs": [
    {
     "name": "stderr",
     "output_type": "stream",
     "text": [
      "/var/folders/pm/55zx5_w96pq2pd47sg33yfq00000gn/T/ipykernel_95514/697785948.py:1: DtypeWarning: Columns (3) have mixed types. Specify dtype option on import or set low_memory=False.\n",
      "  collisions = pd.read_csv('collisions.csv')\n"
     ]
    },
    {
     "name": "stdout",
     "output_type": "stream",
     "text": [
      "The collisions raw dataset shape is:  (2041789, 29)\n",
      "The collisions raw dataset columns are:  Index(['CRASH DATE', 'CRASH TIME', 'BOROUGH', 'ZIP CODE', 'LATITUDE',\n",
      "       'LONGITUDE', 'LOCATION', 'ON STREET NAME', 'CROSS STREET NAME',\n",
      "       'OFF STREET NAME', 'NUMBER OF PERSONS INJURED',\n",
      "       'NUMBER OF PERSONS KILLED', 'NUMBER OF PEDESTRIANS INJURED',\n",
      "       'NUMBER OF PEDESTRIANS KILLED', 'NUMBER OF CYCLIST INJURED',\n",
      "       'NUMBER OF CYCLIST KILLED', 'NUMBER OF MOTORIST INJURED',\n",
      "       'NUMBER OF MOTORIST KILLED', 'CONTRIBUTING FACTOR VEHICLE 1',\n",
      "       'CONTRIBUTING FACTOR VEHICLE 2', 'CONTRIBUTING FACTOR VEHICLE 3',\n",
      "       'CONTRIBUTING FACTOR VEHICLE 4', 'CONTRIBUTING FACTOR VEHICLE 5',\n",
      "       'COLLISION_ID', 'VEHICLE TYPE CODE 1', 'VEHICLE TYPE CODE 2',\n",
      "       'VEHICLE TYPE CODE 3', 'VEHICLE TYPE CODE 4', 'VEHICLE TYPE CODE 5'],\n",
      "      dtype='object')\n"
     ]
    }
   ],
   "source": [
    "collisions = pd.read_csv('collisions.csv')\n",
    "print('The collisions raw dataset shape is: ', collisions.shape)\n",
    "print('The collisions raw dataset columns are: ', collisions.columns)"
   ]
  },
  {
   "cell_type": "code",
   "execution_count": 48,
   "metadata": {
    "colab": {
     "base_uri": "https://localhost:8080/"
    },
    "id": "ERG0qS0JIrM3",
    "outputId": "213410a2-1fdd-4d29-f9ce-b409add1cb84"
   },
   "outputs": [
    {
     "name": "stdout",
     "output_type": "stream",
     "text": [
      "The collisions raw dataset columns are:  Index(['CRASH DATE', 'CRASH TIME', 'BOROUGH', 'ZIP CODE', 'LATITUDE',\n",
      "       'LONGITUDE', 'NUMBER OF PERSONS INJURED', 'NUMBER OF PERSONS KILLED',\n",
      "       'NUMBER OF CYCLIST INJURED', 'NUMBER OF CYCLIST KILLED',\n",
      "       'NUMBER OF MOTORIST INJURED', 'NUMBER OF MOTORIST KILLED',\n",
      "       'COLLISION_ID', 'VEHICLE TYPE CODE 1', 'VEHICLE TYPE CODE 2',\n",
      "       'VEHICLE TYPE CODE 3', 'VEHICLE TYPE CODE 4', 'VEHICLE TYPE CODE 5'],\n",
      "      dtype='object')\n"
     ]
    }
   ],
   "source": [
    "# Drop the columns we are not using\n",
    "\n",
    "columns_to_remove = ['LOCATION', 'ON STREET NAME', 'CROSS STREET NAME',\n",
    "       'OFF STREET NAME', 'NUMBER OF PEDESTRIANS INJURED',\n",
    "       'NUMBER OF PEDESTRIANS KILLED', 'CONTRIBUTING FACTOR VEHICLE 1',\n",
    "       'CONTRIBUTING FACTOR VEHICLE 2', 'CONTRIBUTING FACTOR VEHICLE 3',\n",
    "       'CONTRIBUTING FACTOR VEHICLE 4', 'CONTRIBUTING FACTOR VEHICLE 5']\n",
    "collisions = collisions.drop(columns=columns_to_remove)\n",
    "print('The collisions raw dataset columns are: ', collisions.columns)"
   ]
  },
  {
   "cell_type": "code",
   "execution_count": 49,
   "metadata": {
    "colab": {
     "base_uri": "https://localhost:8080/"
    },
    "id": "7jHre09SKs6Q",
    "outputId": "8889c04d-9b5d-48b5-d10a-4abf02557c43"
   },
   "outputs": [
    {
     "name": "stdout",
     "output_type": "stream",
     "text": [
      "The collisions raw dataset columns are:  Index(['CRASH DATE', 'CRASH TIME', 'BOROUGH', 'ZIP CODE', 'LATITUDE',\n",
      "       'LONGITUDE', 'COLLISION_ID', 'VEHICLE TYPE CODE 1',\n",
      "       'VEHICLE TYPE CODE 2', 'VEHICLE TYPE CODE 3', 'VEHICLE TYPE CODE 4',\n",
      "       'VEHICLE TYPE CODE 5', 'PERSONS_AFFECTED', '2-WHEELS_AFFECTED'],\n",
      "      dtype='object')\n"
     ]
    }
   ],
   "source": [
    "# Affected persons (killed + injured) per collision\n",
    "collisions['PERSONS_AFFECTED'] = collisions['NUMBER OF PERSONS INJURED'] + collisions['NUMBER OF PERSONS KILLED']\n",
    "# Affected persons driving a 2-wheel vehicle in a collision -> Will help to visualize the proportionality\n",
    "collisions['2-WHEELS_AFFECTED'] = collisions['NUMBER OF CYCLIST INJURED'] + collisions['NUMBER OF CYCLIST KILLED'] + collisions['NUMBER OF MOTORIST INJURED'] + collisions['NUMBER OF MOTORIST KILLED']\n",
    "\n",
    "columns_to_remove = ['NUMBER OF PERSONS INJURED', 'NUMBER OF PERSONS KILLED',\n",
    "       'NUMBER OF CYCLIST INJURED', 'NUMBER OF CYCLIST KILLED',\n",
    "       'NUMBER OF MOTORIST INJURED', 'NUMBER OF MOTORIST KILLED']\n",
    "collisions = collisions.drop(columns=columns_to_remove)\n",
    "print('The collisions raw dataset columns are: ', collisions.columns)"
   ]
  },
  {
   "cell_type": "code",
   "execution_count": 50,
   "metadata": {
    "colab": {
     "base_uri": "https://localhost:8080/"
    },
    "id": "rU0iv0DnMgnw",
    "outputId": "03ca64b7-b3be-4f99-a34e-d045acfe46f3"
   },
   "outputs": [
    {
     "name": "stdout",
     "output_type": "stream",
     "text": [
      "The collisions raw dataset columns are:  Index(['CRASH DATE', 'BOROUGH', 'ZIP CODE', 'LATITUDE', 'LONGITUDE',\n",
      "       'COLLISION_ID', 'VEHICLE TYPE CODE 1', 'VEHICLE TYPE CODE 2',\n",
      "       'VEHICLE TYPE CODE 3', 'VEHICLE TYPE CODE 4', 'VEHICLE TYPE CODE 5',\n",
      "       'PERSONS_AFFECTED', '2-WHEELS_AFFECTED', 'CAT_CRASH_TIME'],\n",
      "      dtype='object')\n"
     ]
    }
   ],
   "source": [
    "# Need to cathegorize the crash time of a collision\n",
    "\n",
    "# Convert to datetime format\n",
    "collisions['CRASH TIME'] = pd.to_datetime(collisions['CRASH TIME'])\n",
    "\n",
    "collisions['HOUR'] = collisions['CRASH TIME'].dt.hour\n",
    "\n",
    "# Function to categorize hours into three ranges of time\n",
    "def categorize_time(hour):\n",
    "    if 0 <= hour < 8:\n",
    "        return 'Night'\n",
    "    elif 8 <= hour < 16:\n",
    "        return 'Day'\n",
    "    else:\n",
    "        return 'Evening'\n",
    "\n",
    "# Apply the categorization function to create a new column\n",
    "collisions['CAT_CRASH_TIME'] = collisions['HOUR'].apply(categorize_time)\n",
    "\n",
    "columns_to_remove = ['CRASH TIME', 'HOUR']\n",
    "collisions = collisions.drop(columns=columns_to_remove)\n",
    "print('The collisions raw dataset columns are: ', collisions.columns)"
   ]
  },
  {
   "cell_type": "code",
   "execution_count": 51,
   "metadata": {
    "id": "MxfZkozhMT8x"
   },
   "outputs": [],
   "source": [
    "def filter_collisions(collisions):\n",
    "    \"\"\"\n",
    "        Filters the collisions dataset for the years 2018 and 2020.\n",
    "    \"\"\"\n",
    "\n",
    "    # Converts the 'CRASH DATE' column to a datetime format.\n",
    "    collisions['CRASH DATE'] = pd.to_datetime(collisions['CRASH DATE'], format='%m/%d/%Y')\n",
    "\n",
    "    # Filters the datasets for the summer months of 2018 and 2020.\n",
    "    def filter_summer_collisions(data, year):\n",
    "        return data[\n",
    "            ((data['CRASH DATE'].dt.year == year) & (data['CRASH DATE'].dt.month >= 6) & (data['CRASH DATE'].dt.month <= 8))\n",
    "        ]\n",
    "\n",
    "    summer_collisions_2018 = filter_summer_collisions(collisions, 2018)\n",
    "    summer_collisions_2020 = filter_summer_collisions(collisions, 2020)\n",
    "\n",
    "    return summer_collisions_2018, summer_collisions_2020"
   ]
  },
  {
   "cell_type": "code",
   "execution_count": 52,
   "metadata": {
    "id": "XQqrzzpqMXVd"
   },
   "outputs": [
    {
     "name": "stderr",
     "output_type": "stream",
     "text": [
      "/var/folders/pm/55zx5_w96pq2pd47sg33yfq00000gn/T/ipykernel_95514/3129342467.py:3: SettingWithCopyWarning: \n",
      "A value is trying to be set on a copy of a slice from a DataFrame.\n",
      "Try using .loc[row_indexer,col_indexer] = value instead\n",
      "\n",
      "See the caveats in the documentation: https://pandas.pydata.org/pandas-docs/stable/user_guide/indexing.html#returning-a-view-versus-a-copy\n",
      "  summer_collisions_2018['SUMMER'] = '2018'\n",
      "/var/folders/pm/55zx5_w96pq2pd47sg33yfq00000gn/T/ipykernel_95514/3129342467.py:4: SettingWithCopyWarning: \n",
      "A value is trying to be set on a copy of a slice from a DataFrame.\n",
      "Try using .loc[row_indexer,col_indexer] = value instead\n",
      "\n",
      "See the caveats in the documentation: https://pandas.pydata.org/pandas-docs/stable/user_guide/indexing.html#returning-a-view-versus-a-copy\n",
      "  summer_collisions_2020['SUMMER'] = '2020'\n"
     ]
    }
   ],
   "source": [
    "# Gets the summer collisions for 2018 and 2020 datasets.\n",
    "summer_collisions_2018, summer_collisions_2020 = filter_collisions(collisions)\n",
    "summer_collisions_2018['SUMMER'] = '2018'\n",
    "summer_collisions_2020['SUMMER'] = '2020'"
   ]
  },
  {
   "cell_type": "code",
   "execution_count": 53,
   "metadata": {
    "id": "rw2O5MY6OT5J"
   },
   "outputs": [],
   "source": [
    "# Differentiates the information contained in the columns of the dataset into the following categories:\n",
    "# Columns that identify collision in time.\n",
    "time_columns = [\n",
    "    'CRASH DATE',\n",
    "    'CAT_CRASH_TIME',\n",
    "    'BOROUGH',\n",
    "    'ZIP CODE',\n",
    "    'COLLISION_ID']\n",
    "\n",
    "# Columns about coordinate location of the collision.\n",
    "coordinates = [\n",
    "    'LATITUDE',\n",
    "    'LONGITUDE'\n",
    "]"
   ]
  },
  {
   "cell_type": "code",
   "execution_count": 54,
   "metadata": {
    "id": "xm_-pvzEOH-2"
   },
   "outputs": [],
   "source": [
    "def manage_missing_values(summer_collisions):\n",
    "    \"\"\"\n",
    "        Processes the datasets with specified criteria on information category selection (column selection).\n",
    "    \"\"\"\n",
    "\n",
    "    # Replaces 'Unspecified' with NaN values.\n",
    "    summer_collisions = summer_collisions.replace('Unspecified', np.nan)\n",
    "\n",
    "    # Drops rows with missing values in categories time_columns, coordinates.\n",
    "    summer_collisions = summer_collisions.dropna(subset=time_columns, how='any')\n",
    "    summer_collisions = summer_collisions.dropna(subset=coordinates, how='any')\n",
    "\n",
    "    return summer_collisions"
   ]
  },
  {
   "cell_type": "code",
   "execution_count": 55,
   "metadata": {
    "id": "uSPkopOCOJJW"
   },
   "outputs": [],
   "source": [
    "# Gets the minimum missing values dataframe, with all information needed to conduct the visualizations, for both summer_collisions_2018 and summer_collisions_2020.\n",
    "summer_collisions_2018 = manage_missing_values(summer_collisions_2018)\n",
    "summer_collisions_2020 = manage_missing_values(summer_collisions_2020)"
   ]
  },
  {
   "cell_type": "code",
   "execution_count": 56,
   "metadata": {},
   "outputs": [],
   "source": [
    "# To manage the vehicle types and their missing values\n",
    "# Concatenating values of columns 1 to 5 into a single column while excluding NaN values\n",
    "summer_collisions_2018['VEHICLE TYPE'] = summer_collisions_2018.iloc[:,6:11].apply(lambda row: [value for value in row.tolist() if not pd.isnull(value)], axis=1)\n",
    "summer_collisions_2020['VEHICLE TYPE'] = summer_collisions_2020.iloc[:,6:11].apply(lambda row: [value for value in row.tolist() if not pd.isnull(value)], axis=1)\n",
    "\n",
    "\n",
    "# Drop the original columns\n",
    "summer_collisions_2018 = summer_collisions_2018.drop(columns=['VEHICLE TYPE CODE 1', 'VEHICLE TYPE CODE 2',\n",
    "                      'VEHICLE TYPE CODE 3', 'VEHICLE TYPE CODE 4', 'VEHICLE TYPE CODE 5'])\n",
    "summer_collisions_2020 = summer_collisions_2020.drop(columns=['VEHICLE TYPE CODE 1', 'VEHICLE TYPE CODE 2',\n",
    "                      'VEHICLE TYPE CODE 3', 'VEHICLE TYPE CODE 4', 'VEHICLE TYPE CODE 5'])"
   ]
  },
  {
   "cell_type": "code",
   "execution_count": 57,
   "metadata": {
    "id": "Ad7fMjGiOruf"
   },
   "outputs": [],
   "source": [
    "def add_daytype(summer_collisions):\n",
    "    \"\"\"\n",
    "        Adds a column to the datasets indicating wheter is weekday or weekend.\n",
    "    \"\"\"\n",
    "\n",
    "    # Adds a new column indicating wheter is weekday (1) or weekend (0), recoded as 'Weekday' and 'Weekend' respectively.\n",
    "    summer_collisions['DAY TYPE'] = (summer_collisions['CRASH DATE'].dt.dayofweek // 5 == 1).astype(int)\n",
    "    summer_collisions['DAY TYPE'] = summer_collisions['DAY TYPE'].map({0: 'Weekday', 1: 'Weekend'})\n",
    "\n",
    "    return summer_collisions"
   ]
  },
  {
   "cell_type": "code",
   "execution_count": 58,
   "metadata": {
    "id": "wwmIy1D7Ouc-"
   },
   "outputs": [],
   "source": [
    "# Adds the day type column into both summer_collisions_2018 and summer_collisions_2020.\n",
    "summer_collisions_2018 = add_daytype(summer_collisions_2018)\n",
    "summer_collisions_2020 = add_daytype(summer_collisions_2020)"
   ]
  },
  {
   "cell_type": "code",
   "execution_count": 59,
   "metadata": {},
   "outputs": [],
   "source": [
    "summer_collisions_2018['ZIP CODE'] = pd.to_numeric(summer_collisions_2018['ZIP CODE'], errors='coerce', downcast='integer')\n",
    "summer_collisions_2020['ZIP CODE'] = pd.to_numeric(summer_collisions_2020['ZIP CODE'], errors='coerce', downcast='integer')"
   ]
  },
  {
   "cell_type": "code",
   "execution_count": 60,
   "metadata": {},
   "outputs": [],
   "source": [
    "# We don't actually care about the entire date, just the month of the summer\n",
    "summer_collisions_2018['MONTH_YEAR'] = summer_collisions_2018['CRASH DATE'].dt.strftime('%B %Y')\n",
    "summer_collisions_2020['MONTH_YEAR'] = summer_collisions_2020['CRASH DATE'].dt.strftime('%B %Y')"
   ]
  },
  {
   "cell_type": "code",
   "execution_count": 61,
   "metadata": {
    "id": "zouQt9xWPByF"
   },
   "outputs": [],
   "source": [
    "# Reset index for summer_collisions_2018 dataset.\n",
    "summer_collisions_2018.reset_index(drop=True, inplace=True)\n",
    "\n",
    "# Reset index for summer_collisions_2020 dataset.\n",
    "summer_collisions_2020.reset_index(drop=True, inplace=True)"
   ]
  },
  {
   "cell_type": "code",
   "execution_count": 62,
   "metadata": {},
   "outputs": [
    {
     "data": {
      "text/html": [
       "<div>\n",
       "<style scoped>\n",
       "    .dataframe tbody tr th:only-of-type {\n",
       "        vertical-align: middle;\n",
       "    }\n",
       "\n",
       "    .dataframe tbody tr th {\n",
       "        vertical-align: top;\n",
       "    }\n",
       "\n",
       "    .dataframe thead th {\n",
       "        text-align: right;\n",
       "    }\n",
       "</style>\n",
       "<table border=\"1\" class=\"dataframe\">\n",
       "  <thead>\n",
       "    <tr style=\"text-align: right;\">\n",
       "      <th></th>\n",
       "      <th>CRASH DATE</th>\n",
       "      <th>BOROUGH</th>\n",
       "      <th>ZIP CODE</th>\n",
       "      <th>LATITUDE</th>\n",
       "      <th>LONGITUDE</th>\n",
       "      <th>COLLISION_ID</th>\n",
       "      <th>PERSONS_AFFECTED</th>\n",
       "      <th>2-WHEELS_AFFECTED</th>\n",
       "      <th>CAT_CRASH_TIME</th>\n",
       "      <th>SUMMER</th>\n",
       "      <th>VEHICLE TYPE</th>\n",
       "      <th>DAY TYPE</th>\n",
       "      <th>MONTH_YEAR</th>\n",
       "    </tr>\n",
       "  </thead>\n",
       "  <tbody>\n",
       "    <tr>\n",
       "      <th>0</th>\n",
       "      <td>2018-08-30</td>\n",
       "      <td>BROOKLYN</td>\n",
       "      <td>11204</td>\n",
       "      <td>40.616620</td>\n",
       "      <td>-73.999720</td>\n",
       "      <td>3971526</td>\n",
       "      <td>0.0</td>\n",
       "      <td>0</td>\n",
       "      <td>Day</td>\n",
       "      <td>2018</td>\n",
       "      <td>[Sedan, Sedan]</td>\n",
       "      <td>Weekday</td>\n",
       "      <td>August 2018</td>\n",
       "    </tr>\n",
       "    <tr>\n",
       "      <th>1</th>\n",
       "      <td>2018-08-31</td>\n",
       "      <td>BRONX</td>\n",
       "      <td>10472</td>\n",
       "      <td>40.827168</td>\n",
       "      <td>-73.870125</td>\n",
       "      <td>3973140</td>\n",
       "      <td>0.0</td>\n",
       "      <td>0</td>\n",
       "      <td>Night</td>\n",
       "      <td>2018</td>\n",
       "      <td>[Sedan, Sedan]</td>\n",
       "      <td>Weekday</td>\n",
       "      <td>August 2018</td>\n",
       "    </tr>\n",
       "    <tr>\n",
       "      <th>2</th>\n",
       "      <td>2018-08-28</td>\n",
       "      <td>BROOKLYN</td>\n",
       "      <td>11211</td>\n",
       "      <td>40.706540</td>\n",
       "      <td>-73.950410</td>\n",
       "      <td>3969590</td>\n",
       "      <td>0.0</td>\n",
       "      <td>0</td>\n",
       "      <td>Evening</td>\n",
       "      <td>2018</td>\n",
       "      <td>[Station Wagon/Sport Utility Vehicle, Station ...</td>\n",
       "      <td>Weekday</td>\n",
       "      <td>August 2018</td>\n",
       "    </tr>\n",
       "    <tr>\n",
       "      <th>3</th>\n",
       "      <td>2018-08-29</td>\n",
       "      <td>QUEENS</td>\n",
       "      <td>11694</td>\n",
       "      <td>40.586067</td>\n",
       "      <td>-73.822630</td>\n",
       "      <td>3970294</td>\n",
       "      <td>1.0</td>\n",
       "      <td>1</td>\n",
       "      <td>Day</td>\n",
       "      <td>2018</td>\n",
       "      <td>[Station Wagon/Sport Utility Vehicle, Sedan]</td>\n",
       "      <td>Weekday</td>\n",
       "      <td>August 2018</td>\n",
       "    </tr>\n",
       "    <tr>\n",
       "      <th>4</th>\n",
       "      <td>2018-08-05</td>\n",
       "      <td>QUEENS</td>\n",
       "      <td>11370</td>\n",
       "      <td>40.762665</td>\n",
       "      <td>-73.887600</td>\n",
       "      <td>3989501</td>\n",
       "      <td>1.0</td>\n",
       "      <td>1</td>\n",
       "      <td>Night</td>\n",
       "      <td>2018</td>\n",
       "      <td>[Sedan]</td>\n",
       "      <td>Weekend</td>\n",
       "      <td>August 2018</td>\n",
       "    </tr>\n",
       "    <tr>\n",
       "      <th>5</th>\n",
       "      <td>2018-08-05</td>\n",
       "      <td>MANHATTAN</td>\n",
       "      <td>10075</td>\n",
       "      <td>40.773640</td>\n",
       "      <td>-73.959860</td>\n",
       "      <td>3955175</td>\n",
       "      <td>1.0</td>\n",
       "      <td>1</td>\n",
       "      <td>Evening</td>\n",
       "      <td>2018</td>\n",
       "      <td>[Taxi, Station Wagon/Sport Utility Vehicle]</td>\n",
       "      <td>Weekend</td>\n",
       "      <td>August 2018</td>\n",
       "    </tr>\n",
       "    <tr>\n",
       "      <th>6</th>\n",
       "      <td>2018-08-28</td>\n",
       "      <td>BRONX</td>\n",
       "      <td>10454</td>\n",
       "      <td>40.805016</td>\n",
       "      <td>-73.921090</td>\n",
       "      <td>3969257</td>\n",
       "      <td>0.0</td>\n",
       "      <td>0</td>\n",
       "      <td>Day</td>\n",
       "      <td>2018</td>\n",
       "      <td>[Station Wagon/Sport Utility Vehicle, Sedan]</td>\n",
       "      <td>Weekday</td>\n",
       "      <td>August 2018</td>\n",
       "    </tr>\n",
       "    <tr>\n",
       "      <th>7</th>\n",
       "      <td>2018-08-10</td>\n",
       "      <td>QUEENS</td>\n",
       "      <td>11416</td>\n",
       "      <td>40.682415</td>\n",
       "      <td>-73.844510</td>\n",
       "      <td>3960223</td>\n",
       "      <td>0.0</td>\n",
       "      <td>0</td>\n",
       "      <td>Evening</td>\n",
       "      <td>2018</td>\n",
       "      <td>[Sedan, Sedan]</td>\n",
       "      <td>Weekday</td>\n",
       "      <td>August 2018</td>\n",
       "    </tr>\n",
       "    <tr>\n",
       "      <th>8</th>\n",
       "      <td>2018-08-18</td>\n",
       "      <td>STATEN ISLAND</td>\n",
       "      <td>10305</td>\n",
       "      <td>40.589695</td>\n",
       "      <td>-74.067276</td>\n",
       "      <td>3963981</td>\n",
       "      <td>0.0</td>\n",
       "      <td>0</td>\n",
       "      <td>Evening</td>\n",
       "      <td>2018</td>\n",
       "      <td>[Sedan]</td>\n",
       "      <td>Weekend</td>\n",
       "      <td>August 2018</td>\n",
       "    </tr>\n",
       "    <tr>\n",
       "      <th>9</th>\n",
       "      <td>2018-08-18</td>\n",
       "      <td>BROOKLYN</td>\n",
       "      <td>11214</td>\n",
       "      <td>40.592140</td>\n",
       "      <td>-73.988410</td>\n",
       "      <td>3963924</td>\n",
       "      <td>0.0</td>\n",
       "      <td>0</td>\n",
       "      <td>Evening</td>\n",
       "      <td>2018</td>\n",
       "      <td>[Station Wagon/Sport Utility Vehicle, Station ...</td>\n",
       "      <td>Weekend</td>\n",
       "      <td>August 2018</td>\n",
       "    </tr>\n",
       "  </tbody>\n",
       "</table>\n",
       "</div>"
      ],
      "text/plain": [
       "  CRASH DATE        BOROUGH  ZIP CODE   LATITUDE  LONGITUDE  COLLISION_ID  \\\n",
       "0 2018-08-30       BROOKLYN     11204  40.616620 -73.999720       3971526   \n",
       "1 2018-08-31          BRONX     10472  40.827168 -73.870125       3973140   \n",
       "2 2018-08-28       BROOKLYN     11211  40.706540 -73.950410       3969590   \n",
       "3 2018-08-29         QUEENS     11694  40.586067 -73.822630       3970294   \n",
       "4 2018-08-05         QUEENS     11370  40.762665 -73.887600       3989501   \n",
       "5 2018-08-05      MANHATTAN     10075  40.773640 -73.959860       3955175   \n",
       "6 2018-08-28          BRONX     10454  40.805016 -73.921090       3969257   \n",
       "7 2018-08-10         QUEENS     11416  40.682415 -73.844510       3960223   \n",
       "8 2018-08-18  STATEN ISLAND     10305  40.589695 -74.067276       3963981   \n",
       "9 2018-08-18       BROOKLYN     11214  40.592140 -73.988410       3963924   \n",
       "\n",
       "   PERSONS_AFFECTED  2-WHEELS_AFFECTED CAT_CRASH_TIME SUMMER  \\\n",
       "0               0.0                  0            Day   2018   \n",
       "1               0.0                  0          Night   2018   \n",
       "2               0.0                  0        Evening   2018   \n",
       "3               1.0                  1            Day   2018   \n",
       "4               1.0                  1          Night   2018   \n",
       "5               1.0                  1        Evening   2018   \n",
       "6               0.0                  0            Day   2018   \n",
       "7               0.0                  0        Evening   2018   \n",
       "8               0.0                  0        Evening   2018   \n",
       "9               0.0                  0        Evening   2018   \n",
       "\n",
       "                                        VEHICLE TYPE DAY TYPE   MONTH_YEAR  \n",
       "0                                     [Sedan, Sedan]  Weekday  August 2018  \n",
       "1                                     [Sedan, Sedan]  Weekday  August 2018  \n",
       "2  [Station Wagon/Sport Utility Vehicle, Station ...  Weekday  August 2018  \n",
       "3       [Station Wagon/Sport Utility Vehicle, Sedan]  Weekday  August 2018  \n",
       "4                                            [Sedan]  Weekend  August 2018  \n",
       "5        [Taxi, Station Wagon/Sport Utility Vehicle]  Weekend  August 2018  \n",
       "6       [Station Wagon/Sport Utility Vehicle, Sedan]  Weekday  August 2018  \n",
       "7                                     [Sedan, Sedan]  Weekday  August 2018  \n",
       "8                                            [Sedan]  Weekend  August 2018  \n",
       "9  [Station Wagon/Sport Utility Vehicle, Station ...  Weekend  August 2018  "
      ]
     },
     "execution_count": 62,
     "metadata": {},
     "output_type": "execute_result"
    }
   ],
   "source": [
    "summer_collisions_2018[:10]"
   ]
  },
  {
   "cell_type": "code",
   "execution_count": 63,
   "metadata": {
    "id": "IVTl3I0SPD_P"
   },
   "outputs": [
    {
     "name": "stdout",
     "output_type": "stream",
     "text": [
      "The dataset has been saved in pickle format at summer_collisions_2018.pkl.\n",
      "The dataset has been saved in pickle format at summer_collisions_2020.pkl.\n"
     ]
    }
   ],
   "source": [
    "def save(data, file_path):\n",
    "    \"\"\"\n",
    "        Saves the dataset as a pickle file.\n",
    "    \"\"\"\n",
    "\n",
    "    with open(file_path, 'wb') as file:\n",
    "        pickle.dump(data, file)\n",
    "    print(f\"The dataset has been saved in pickle format at {file_path}.\")\n",
    "\n",
    "save(summer_collisions_2018, 'summer_collisions_2018.pkl')\n",
    "save(summer_collisions_2020, 'summer_collisions_2020.pkl')"
   ]
  },
  {
   "cell_type": "markdown",
   "metadata": {
    "id": "OIXu8qMj69_R"
   },
   "source": [
    "Weather dataset\n",
    "---"
   ]
  },
  {
   "cell_type": "code",
   "execution_count": 65,
   "metadata": {
    "id": "9Ag5WCm8-6Kf"
   },
   "outputs": [
    {
     "name": "stdout",
     "output_type": "stream",
     "text": [
      "The weather raw dataset shape is:  (90667, 66)\n",
      "The weather raw dataset columns are:  Index(['STATION', 'NAME', 'LATITUDE', 'LONGITUDE', 'ELEVATION', 'DATE', 'AWND',\n",
      "       'AWND_ATTRIBUTES', 'DAPR', 'DAPR_ATTRIBUTES', 'DASF', 'DASF_ATTRIBUTES',\n",
      "       'MDPR', 'MDPR_ATTRIBUTES', 'MDSF', 'MDSF_ATTRIBUTES', 'PGTM',\n",
      "       'PGTM_ATTRIBUTES', 'PRCP', 'PRCP_ATTRIBUTES', 'PSUN', 'PSUN_ATTRIBUTES',\n",
      "       'SNOW', 'SNOW_ATTRIBUTES', 'SNWD', 'SNWD_ATTRIBUTES', 'TAVG',\n",
      "       'TAVG_ATTRIBUTES', 'TMAX', 'TMAX_ATTRIBUTES', 'TMIN', 'TMIN_ATTRIBUTES',\n",
      "       'TOBS', 'TOBS_ATTRIBUTES', 'TSUN', 'TSUN_ATTRIBUTES', 'WDF2',\n",
      "       'WDF2_ATTRIBUTES', 'WDF5', 'WDF5_ATTRIBUTES', 'WESD', 'WESD_ATTRIBUTES',\n",
      "       'WESF', 'WESF_ATTRIBUTES', 'WSF2', 'WSF2_ATTRIBUTES', 'WSF5',\n",
      "       'WSF5_ATTRIBUTES', 'WT01', 'WT01_ATTRIBUTES', 'WT02', 'WT02_ATTRIBUTES',\n",
      "       'WT03', 'WT03_ATTRIBUTES', 'WT04', 'WT04_ATTRIBUTES', 'WT05',\n",
      "       'WT05_ATTRIBUTES', 'WT06', 'WT06_ATTRIBUTES', 'WT08', 'WT08_ATTRIBUTES',\n",
      "       'WT09', 'WT09_ATTRIBUTES', 'WT11', 'WT11_ATTRIBUTES'],\n",
      "      dtype='object')\n"
     ]
    },
    {
     "name": "stderr",
     "output_type": "stream",
     "text": [
      "/var/folders/pm/55zx5_w96pq2pd47sg33yfq00000gn/T/ipykernel_95514/4265410561.py:2: DtypeWarning: Columns (7,9,13,17,21,23,25,27,29,31,33,35,37,39,41,43,45,47,49,51,53,55,57,59,61,63,65) have mixed types. Specify dtype option on import or set low_memory=False.\n",
      "  weather = pd.read_csv('weather.csv')\n"
     ]
    }
   ],
   "source": [
    "# Loads the weather dataset.\n",
    "weather = pd.read_csv('weather.csv')\n",
    "print('The weather raw dataset shape is: ', weather.shape)\n",
    "print('The weather raw dataset columns are: ', weather.columns)"
   ]
  },
  {
   "cell_type": "code",
   "execution_count": 66,
   "metadata": {
    "id": "DyIv1OY6_HNu"
   },
   "outputs": [],
   "source": [
    "def filter_weather(weather):\n",
    "    \"\"\"\n",
    "        Filters the weather dataset for the years 2018 and 2020.\n",
    "    \"\"\"\n",
    "    \n",
    "    # Convert 'DATE' column to datetime format.\n",
    "    weather['DATE'] = pd.to_datetime(weather['DATE'], errors='coerce')\n",
    "\n",
    "    # Filters the datasets for the summer months of 2018 and 2020.\n",
    "    def filter_summer_weather(data, year):\n",
    "        return data[\n",
    "            ((data['DATE'].dt.year == year) & (data['DATE'].dt.month >= 6) & (data['DATE'].dt.month <= 8))\n",
    "        ]\n",
    "\n",
    "    summer_weather_2018 = filter_summer_weather(weather, 2018)\n",
    "    summer_weather_2020 = filter_summer_weather(weather, 2020)\n",
    "\n",
    "    return summer_weather_2018, summer_weather_2020\n",
    "\n",
    "# Gets the summer weather for 2018 and 2020 datasets.\n",
    "summer_weather_2018, summer_weather_2020 = filter_weather(weather)"
   ]
  },
  {
   "cell_type": "code",
   "execution_count": 67,
   "metadata": {
    "id": "-TgWFhT__OYC"
   },
   "outputs": [],
   "source": [
    "# Differentiates the information contained in the columns of the dataset into the following categories:\n",
    "# Columns that identify the weather station and the date of the observation.\n",
    "observation_columns = [\n",
    "    'STATION',\n",
    "    'NAME',\n",
    "    'DATE'\n",
    "]\n",
    "\n",
    "# Columns about coordinate location of the observation.\n",
    "coordinates = [\n",
    "    'LATITUDE',\n",
    "    'LONGITUDE',\n",
    "    'ELEVATION'\n",
    "]\n",
    "\n",
    "# Columns about the weather conditions (snowfall).\n",
    "snowfall_columns = [\n",
    "    'SNOW', # Snowfall.\n",
    "    'SNWD'  # Snow depth.\n",
    "]\n",
    "\n",
    "# Columns about the weather conditions (temperature).\n",
    "temperature_columns = [\n",
    "    'TAVG', # Average temperature.\n",
    "    'TMAX', # Maximum temperature.\n",
    "    'TMIN'  # Minimum temperature.\n",
    "]\n",
    "\n",
    "# Columns about the weather conditions (wind).\n",
    "wind_columns = [\n",
    "    'AWND', # Average daily wind speed.\n",
    "    'WDF2', # Direction of the fastest 2-minute wind.\n",
    "    'WDF5', # Direction of the fastest 5-second wind.\n",
    "    'WSF2', # Fastest 2-minute wind speed.\n",
    "    'WSF5'  # Fastest 5-second wind speed.\n",
    "]\n",
    "\n",
    "# Columns about the weather conditions (precipitation).\n",
    "# Consider only 'PRCP' column."
   ]
  },
  {
   "cell_type": "code",
   "execution_count": 68,
   "metadata": {
    "id": "F1o_QfTr_SFI"
   },
   "outputs": [],
   "source": [
    "def filter_columns_of_interest(summer_weather, columns_of_interest):\n",
    "    \"\"\"\n",
    "        Filters the summer collisions to keep only the columns of interest.\n",
    "    \"\"\"\n",
    "\n",
    "    # Gets the columns of no interest in.\n",
    "    columns_to_drop = [col for col in summer_weather.columns if col not in columns_of_interest]\n",
    "\n",
    "    # Drops the columns not in columns_of_interest.\n",
    "    summer_weather = summer_weather.drop(columns=columns_to_drop)\n",
    "\n",
    "    return summer_weather"
   ]
  },
  {
   "cell_type": "code",
   "execution_count": 69,
   "metadata": {
    "id": "B__ViIuw_VOk"
   },
   "outputs": [],
   "source": [
    "# Defines columns of interest.\n",
    "columns_of_interest = observation_columns + coordinates + snowfall_columns + temperature_columns + wind_columns + ['PRCP']\n",
    "\n",
    "# Filter columns of interest for both summer_collisions_2018 and summer_collisions_2020.\n",
    "summer_weather_2018 = filter_columns_of_interest(summer_weather_2018, columns_of_interest)\n",
    "summer_weather_2020 = filter_columns_of_interest(summer_weather_2020, columns_of_interest)"
   ]
  },
  {
   "cell_type": "code",
   "execution_count": 70,
   "metadata": {
    "id": "iZbMy7L7_aUm"
   },
   "outputs": [
    {
     "data": {
      "text/plain": [
       "Index(['STATION', 'NAME', 'LATITUDE', 'LONGITUDE', 'ELEVATION', 'DATE', 'AWND',\n",
       "       'PRCP', 'SNOW', 'SNWD', 'TAVG', 'TMAX', 'TMIN', 'WDF2', 'WDF5', 'WSF2',\n",
       "       'WSF5'],\n",
       "      dtype='object')"
      ]
     },
     "execution_count": 70,
     "metadata": {},
     "output_type": "execute_result"
    }
   ],
   "source": [
    "summer_weather_2020.columns"
   ]
  },
  {
   "cell_type": "code",
   "execution_count": 71,
   "metadata": {},
   "outputs": [],
   "source": [
    "def replace_nan_with_zero(summer_weather):\n",
    "    # Replaces all NaN values with 0 values.\n",
    "   summer_weather.fillna(0, inplace=True)\n",
    "   return summer_weather\n",
    "\n",
    "summer_weather_2018 = replace_nan_with_zero(summer_weather_2018)\n",
    "summer_weather_2020 = replace_nan_with_zero(summer_weather_2020)"
   ]
  },
  {
   "cell_type": "code",
   "execution_count": 72,
   "metadata": {
    "id": "I0lJUwb5_ejV"
   },
   "outputs": [
    {
     "data": {
      "text/html": [
       "<div>\n",
       "<style scoped>\n",
       "    .dataframe tbody tr th:only-of-type {\n",
       "        vertical-align: middle;\n",
       "    }\n",
       "\n",
       "    .dataframe tbody tr th {\n",
       "        vertical-align: top;\n",
       "    }\n",
       "\n",
       "    .dataframe thead th {\n",
       "        text-align: right;\n",
       "    }\n",
       "</style>\n",
       "<table border=\"1\" class=\"dataframe\">\n",
       "  <thead>\n",
       "    <tr style=\"text-align: right;\">\n",
       "      <th></th>\n",
       "      <th>STATION</th>\n",
       "      <th>NAME</th>\n",
       "      <th>LATITUDE</th>\n",
       "      <th>LONGITUDE</th>\n",
       "      <th>ELEVATION</th>\n",
       "      <th>DATE</th>\n",
       "      <th>AWND</th>\n",
       "      <th>PRCP</th>\n",
       "      <th>SNOW</th>\n",
       "      <th>SNWD</th>\n",
       "      <th>TAVG</th>\n",
       "      <th>TMAX</th>\n",
       "      <th>TMIN</th>\n",
       "      <th>WDF2</th>\n",
       "      <th>WDF5</th>\n",
       "      <th>WSF2</th>\n",
       "      <th>WSF5</th>\n",
       "    </tr>\n",
       "  </thead>\n",
       "  <tbody>\n",
       "    <tr>\n",
       "      <th>880</th>\n",
       "      <td>USC00280907</td>\n",
       "      <td>BOONTON 1 SE, NJ US</td>\n",
       "      <td>40.89174</td>\n",
       "      <td>-74.39635</td>\n",
       "      <td>85.3</td>\n",
       "      <td>2020-06-01</td>\n",
       "      <td>0.0</td>\n",
       "      <td>0.0</td>\n",
       "      <td>0.0</td>\n",
       "      <td>0.0</td>\n",
       "      <td>0.0</td>\n",
       "      <td>20.0</td>\n",
       "      <td>8.9</td>\n",
       "      <td>0.0</td>\n",
       "      <td>0.0</td>\n",
       "      <td>0.0</td>\n",
       "      <td>0.0</td>\n",
       "    </tr>\n",
       "    <tr>\n",
       "      <th>881</th>\n",
       "      <td>USC00280907</td>\n",
       "      <td>BOONTON 1 SE, NJ US</td>\n",
       "      <td>40.89174</td>\n",
       "      <td>-74.39635</td>\n",
       "      <td>85.3</td>\n",
       "      <td>2020-06-02</td>\n",
       "      <td>0.0</td>\n",
       "      <td>0.0</td>\n",
       "      <td>0.0</td>\n",
       "      <td>0.0</td>\n",
       "      <td>0.0</td>\n",
       "      <td>21.1</td>\n",
       "      <td>8.9</td>\n",
       "      <td>0.0</td>\n",
       "      <td>0.0</td>\n",
       "      <td>0.0</td>\n",
       "      <td>0.0</td>\n",
       "    </tr>\n",
       "    <tr>\n",
       "      <th>882</th>\n",
       "      <td>USC00280907</td>\n",
       "      <td>BOONTON 1 SE, NJ US</td>\n",
       "      <td>40.89174</td>\n",
       "      <td>-74.39635</td>\n",
       "      <td>85.3</td>\n",
       "      <td>2020-06-03</td>\n",
       "      <td>0.0</td>\n",
       "      <td>18.5</td>\n",
       "      <td>0.0</td>\n",
       "      <td>0.0</td>\n",
       "      <td>0.0</td>\n",
       "      <td>22.8</td>\n",
       "      <td>10.0</td>\n",
       "      <td>0.0</td>\n",
       "      <td>0.0</td>\n",
       "      <td>0.0</td>\n",
       "      <td>0.0</td>\n",
       "    </tr>\n",
       "    <tr>\n",
       "      <th>883</th>\n",
       "      <td>USC00280907</td>\n",
       "      <td>BOONTON 1 SE, NJ US</td>\n",
       "      <td>40.89174</td>\n",
       "      <td>-74.39635</td>\n",
       "      <td>85.3</td>\n",
       "      <td>2020-06-04</td>\n",
       "      <td>0.0</td>\n",
       "      <td>5.1</td>\n",
       "      <td>0.0</td>\n",
       "      <td>0.0</td>\n",
       "      <td>0.0</td>\n",
       "      <td>26.1</td>\n",
       "      <td>15.6</td>\n",
       "      <td>0.0</td>\n",
       "      <td>0.0</td>\n",
       "      <td>0.0</td>\n",
       "      <td>0.0</td>\n",
       "    </tr>\n",
       "    <tr>\n",
       "      <th>884</th>\n",
       "      <td>USC00280907</td>\n",
       "      <td>BOONTON 1 SE, NJ US</td>\n",
       "      <td>40.89174</td>\n",
       "      <td>-74.39635</td>\n",
       "      <td>85.3</td>\n",
       "      <td>2020-06-05</td>\n",
       "      <td>0.0</td>\n",
       "      <td>9.1</td>\n",
       "      <td>0.0</td>\n",
       "      <td>0.0</td>\n",
       "      <td>0.0</td>\n",
       "      <td>28.9</td>\n",
       "      <td>16.7</td>\n",
       "      <td>0.0</td>\n",
       "      <td>0.0</td>\n",
       "      <td>0.0</td>\n",
       "      <td>0.0</td>\n",
       "    </tr>\n",
       "  </tbody>\n",
       "</table>\n",
       "</div>"
      ],
      "text/plain": [
       "         STATION                 NAME  LATITUDE  LONGITUDE  ELEVATION  \\\n",
       "880  USC00280907  BOONTON 1 SE, NJ US  40.89174  -74.39635       85.3   \n",
       "881  USC00280907  BOONTON 1 SE, NJ US  40.89174  -74.39635       85.3   \n",
       "882  USC00280907  BOONTON 1 SE, NJ US  40.89174  -74.39635       85.3   \n",
       "883  USC00280907  BOONTON 1 SE, NJ US  40.89174  -74.39635       85.3   \n",
       "884  USC00280907  BOONTON 1 SE, NJ US  40.89174  -74.39635       85.3   \n",
       "\n",
       "          DATE  AWND  PRCP  SNOW  SNWD  TAVG  TMAX  TMIN  WDF2  WDF5  WSF2  \\\n",
       "880 2020-06-01   0.0   0.0   0.0   0.0   0.0  20.0   8.9   0.0   0.0   0.0   \n",
       "881 2020-06-02   0.0   0.0   0.0   0.0   0.0  21.1   8.9   0.0   0.0   0.0   \n",
       "882 2020-06-03   0.0  18.5   0.0   0.0   0.0  22.8  10.0   0.0   0.0   0.0   \n",
       "883 2020-06-04   0.0   5.1   0.0   0.0   0.0  26.1  15.6   0.0   0.0   0.0   \n",
       "884 2020-06-05   0.0   9.1   0.0   0.0   0.0  28.9  16.7   0.0   0.0   0.0   \n",
       "\n",
       "     WSF5  \n",
       "880   0.0  \n",
       "881   0.0  \n",
       "882   0.0  \n",
       "883   0.0  \n",
       "884   0.0  "
      ]
     },
     "execution_count": 72,
     "metadata": {},
     "output_type": "execute_result"
    }
   ],
   "source": [
    "summer_weather_2020.head()"
   ]
  },
  {
   "cell_type": "code",
   "execution_count": 80,
   "metadata": {
    "id": "L2CzvQCq_rIe"
   },
   "outputs": [],
   "source": [
    "def encode_weather_conditions(summer_weather):\n",
    "    # Creates new columns to define labels for weather conditions\n",
    "    summer_weather['WINDY'] = (summer_weather['AWND'].gt(0) | summer_weather['WDF2'].gt(0) | summer_weather['WDF5'].gt(0) | summer_weather['WSF2'].gt(0) | summer_weather['WSF5'].gt(0))\n",
    "    summer_weather['RAINY'] = summer_weather['PRCP'].gt(0)  # Considers only non-zero precipitation as rainy\n",
    "    summer_weather['SNOWY'] = (summer_weather['SNOW'].gt(0) | summer_weather['SNWD'].gt(0))\n",
    "\n",
    "    return summer_weather"
   ]
  },
  {
   "cell_type": "code",
   "execution_count": 74,
   "metadata": {
    "id": "Y3wVJNK4_xn0"
   },
   "outputs": [],
   "source": [
    "summer_weather_2018 = encode_weather_conditions(summer_weather_2018)\n",
    "summer_weather_2020 = encode_weather_conditions(summer_weather_2020)"
   ]
  },
  {
   "cell_type": "code",
   "execution_count": 75,
   "metadata": {},
   "outputs": [],
   "source": [
    "# Averages = 0 doesn't inspire confidence, s.t. if TAVG or AWND = 0 -> remove\n",
    "summer_weather_2018 = summer_weather_2018[(summer_weather_2018['TAVG'] != 0) & (summer_weather_2018['AWND'] != 0)]\n",
    "summer_weather_2020 = summer_weather_2020[(summer_weather_2020['TAVG'] != 0) & (summer_weather_2020['AWND'] != 0)]"
   ]
  },
  {
   "cell_type": "code",
   "execution_count": 76,
   "metadata": {
    "id": "GMlalhfE_0Fw"
   },
   "outputs": [
    {
     "data": {
      "text/html": [
       "<div>\n",
       "<style scoped>\n",
       "    .dataframe tbody tr th:only-of-type {\n",
       "        vertical-align: middle;\n",
       "    }\n",
       "\n",
       "    .dataframe tbody tr th {\n",
       "        vertical-align: top;\n",
       "    }\n",
       "\n",
       "    .dataframe thead th {\n",
       "        text-align: right;\n",
       "    }\n",
       "</style>\n",
       "<table border=\"1\" class=\"dataframe\">\n",
       "  <thead>\n",
       "    <tr style=\"text-align: right;\">\n",
       "      <th></th>\n",
       "      <th>STATION</th>\n",
       "      <th>NAME</th>\n",
       "      <th>LATITUDE</th>\n",
       "      <th>LONGITUDE</th>\n",
       "      <th>ELEVATION</th>\n",
       "      <th>DATE</th>\n",
       "      <th>AWND</th>\n",
       "      <th>PRCP</th>\n",
       "      <th>SNOW</th>\n",
       "      <th>SNWD</th>\n",
       "      <th>...</th>\n",
       "      <th>TMAX</th>\n",
       "      <th>TMIN</th>\n",
       "      <th>WDF2</th>\n",
       "      <th>WDF5</th>\n",
       "      <th>WSF2</th>\n",
       "      <th>WSF5</th>\n",
       "      <th>WINDY</th>\n",
       "      <th>RAINY</th>\n",
       "      <th>SNOWY</th>\n",
       "      <th>SUNNY</th>\n",
       "    </tr>\n",
       "  </thead>\n",
       "  <tbody>\n",
       "    <tr>\n",
       "      <th>3834</th>\n",
       "      <td>USW00014732</td>\n",
       "      <td>LAGUARDIA AIRPORT, NY US</td>\n",
       "      <td>40.77945</td>\n",
       "      <td>-73.88027</td>\n",
       "      <td>3.0</td>\n",
       "      <td>2020-06-01</td>\n",
       "      <td>4.5</td>\n",
       "      <td>0.0</td>\n",
       "      <td>0.0</td>\n",
       "      <td>0.0</td>\n",
       "      <td>...</td>\n",
       "      <td>22.2</td>\n",
       "      <td>12.2</td>\n",
       "      <td>320.0</td>\n",
       "      <td>320.0</td>\n",
       "      <td>9.8</td>\n",
       "      <td>13.4</td>\n",
       "      <td>True</td>\n",
       "      <td>False</td>\n",
       "      <td>False</td>\n",
       "      <td>False</td>\n",
       "    </tr>\n",
       "    <tr>\n",
       "      <th>3835</th>\n",
       "      <td>USW00014732</td>\n",
       "      <td>LAGUARDIA AIRPORT, NY US</td>\n",
       "      <td>40.77945</td>\n",
       "      <td>-73.88027</td>\n",
       "      <td>3.0</td>\n",
       "      <td>2020-06-02</td>\n",
       "      <td>3.7</td>\n",
       "      <td>0.0</td>\n",
       "      <td>0.0</td>\n",
       "      <td>0.0</td>\n",
       "      <td>...</td>\n",
       "      <td>24.4</td>\n",
       "      <td>17.2</td>\n",
       "      <td>270.0</td>\n",
       "      <td>250.0</td>\n",
       "      <td>8.1</td>\n",
       "      <td>10.3</td>\n",
       "      <td>True</td>\n",
       "      <td>False</td>\n",
       "      <td>False</td>\n",
       "      <td>False</td>\n",
       "    </tr>\n",
       "    <tr>\n",
       "      <th>3836</th>\n",
       "      <td>USW00014732</td>\n",
       "      <td>LAGUARDIA AIRPORT, NY US</td>\n",
       "      <td>40.77945</td>\n",
       "      <td>-73.88027</td>\n",
       "      <td>3.0</td>\n",
       "      <td>2020-06-03</td>\n",
       "      <td>4.0</td>\n",
       "      <td>4.8</td>\n",
       "      <td>0.0</td>\n",
       "      <td>0.0</td>\n",
       "      <td>...</td>\n",
       "      <td>27.8</td>\n",
       "      <td>17.2</td>\n",
       "      <td>350.0</td>\n",
       "      <td>250.0</td>\n",
       "      <td>10.7</td>\n",
       "      <td>14.3</td>\n",
       "      <td>True</td>\n",
       "      <td>True</td>\n",
       "      <td>False</td>\n",
       "      <td>False</td>\n",
       "    </tr>\n",
       "    <tr>\n",
       "      <th>3837</th>\n",
       "      <td>USW00014732</td>\n",
       "      <td>LAGUARDIA AIRPORT, NY US</td>\n",
       "      <td>40.77945</td>\n",
       "      <td>-73.88027</td>\n",
       "      <td>3.0</td>\n",
       "      <td>2020-06-04</td>\n",
       "      <td>3.2</td>\n",
       "      <td>3.6</td>\n",
       "      <td>0.0</td>\n",
       "      <td>0.0</td>\n",
       "      <td>...</td>\n",
       "      <td>31.1</td>\n",
       "      <td>20.6</td>\n",
       "      <td>210.0</td>\n",
       "      <td>210.0</td>\n",
       "      <td>8.1</td>\n",
       "      <td>10.7</td>\n",
       "      <td>True</td>\n",
       "      <td>True</td>\n",
       "      <td>False</td>\n",
       "      <td>False</td>\n",
       "    </tr>\n",
       "    <tr>\n",
       "      <th>3838</th>\n",
       "      <td>USW00014732</td>\n",
       "      <td>LAGUARDIA AIRPORT, NY US</td>\n",
       "      <td>40.77945</td>\n",
       "      <td>-73.88027</td>\n",
       "      <td>3.0</td>\n",
       "      <td>2020-06-05</td>\n",
       "      <td>3.9</td>\n",
       "      <td>6.9</td>\n",
       "      <td>0.0</td>\n",
       "      <td>0.0</td>\n",
       "      <td>...</td>\n",
       "      <td>28.3</td>\n",
       "      <td>20.6</td>\n",
       "      <td>170.0</td>\n",
       "      <td>170.0</td>\n",
       "      <td>8.1</td>\n",
       "      <td>10.3</td>\n",
       "      <td>True</td>\n",
       "      <td>True</td>\n",
       "      <td>False</td>\n",
       "      <td>False</td>\n",
       "    </tr>\n",
       "  </tbody>\n",
       "</table>\n",
       "<p>5 rows × 21 columns</p>\n",
       "</div>"
      ],
      "text/plain": [
       "          STATION                      NAME  LATITUDE  LONGITUDE  ELEVATION  \\\n",
       "3834  USW00014732  LAGUARDIA AIRPORT, NY US  40.77945  -73.88027        3.0   \n",
       "3835  USW00014732  LAGUARDIA AIRPORT, NY US  40.77945  -73.88027        3.0   \n",
       "3836  USW00014732  LAGUARDIA AIRPORT, NY US  40.77945  -73.88027        3.0   \n",
       "3837  USW00014732  LAGUARDIA AIRPORT, NY US  40.77945  -73.88027        3.0   \n",
       "3838  USW00014732  LAGUARDIA AIRPORT, NY US  40.77945  -73.88027        3.0   \n",
       "\n",
       "           DATE  AWND  PRCP  SNOW  SNWD  ...  TMAX  TMIN   WDF2   WDF5  WSF2  \\\n",
       "3834 2020-06-01   4.5   0.0   0.0   0.0  ...  22.2  12.2  320.0  320.0   9.8   \n",
       "3835 2020-06-02   3.7   0.0   0.0   0.0  ...  24.4  17.2  270.0  250.0   8.1   \n",
       "3836 2020-06-03   4.0   4.8   0.0   0.0  ...  27.8  17.2  350.0  250.0  10.7   \n",
       "3837 2020-06-04   3.2   3.6   0.0   0.0  ...  31.1  20.6  210.0  210.0   8.1   \n",
       "3838 2020-06-05   3.9   6.9   0.0   0.0  ...  28.3  20.6  170.0  170.0   8.1   \n",
       "\n",
       "      WSF5  WINDY  RAINY  SNOWY  SUNNY  \n",
       "3834  13.4   True  False  False  False  \n",
       "3835  10.3   True  False  False  False  \n",
       "3836  14.3   True   True  False  False  \n",
       "3837  10.7   True   True  False  False  \n",
       "3838  10.3   True   True  False  False  \n",
       "\n",
       "[5 rows x 21 columns]"
      ]
     },
     "execution_count": 76,
     "metadata": {},
     "output_type": "execute_result"
    }
   ],
   "source": [
    "summer_weather_2020.head()"
   ]
  },
  {
   "cell_type": "code",
   "execution_count": 77,
   "metadata": {
    "id": "qjGMQcwb_33q"
   },
   "outputs": [
    {
     "data": {
      "text/html": [
       "<div>\n",
       "<style scoped>\n",
       "    .dataframe tbody tr th:only-of-type {\n",
       "        vertical-align: middle;\n",
       "    }\n",
       "\n",
       "    .dataframe tbody tr th {\n",
       "        vertical-align: top;\n",
       "    }\n",
       "\n",
       "    .dataframe thead th {\n",
       "        text-align: right;\n",
       "    }\n",
       "</style>\n",
       "<table border=\"1\" class=\"dataframe\">\n",
       "  <thead>\n",
       "    <tr style=\"text-align: right;\">\n",
       "      <th></th>\n",
       "      <th>STATION</th>\n",
       "      <th>NAME</th>\n",
       "      <th>LATITUDE</th>\n",
       "      <th>LONGITUDE</th>\n",
       "      <th>ELEVATION</th>\n",
       "      <th>DATE</th>\n",
       "      <th>AWND</th>\n",
       "      <th>PRCP</th>\n",
       "      <th>SNOW</th>\n",
       "      <th>SNWD</th>\n",
       "      <th>...</th>\n",
       "      <th>TMAX</th>\n",
       "      <th>TMIN</th>\n",
       "      <th>WDF2</th>\n",
       "      <th>WDF5</th>\n",
       "      <th>WSF2</th>\n",
       "      <th>WSF5</th>\n",
       "      <th>WINDY</th>\n",
       "      <th>RAINY</th>\n",
       "      <th>SNOWY</th>\n",
       "      <th>SUNNY</th>\n",
       "    </tr>\n",
       "  </thead>\n",
       "  <tbody>\n",
       "    <tr>\n",
       "      <th>3103</th>\n",
       "      <td>USW00014732</td>\n",
       "      <td>LAGUARDIA AIRPORT, NY US</td>\n",
       "      <td>40.77945</td>\n",
       "      <td>-73.88027</td>\n",
       "      <td>3.0</td>\n",
       "      <td>2018-06-01</td>\n",
       "      <td>2.9</td>\n",
       "      <td>1.3</td>\n",
       "      <td>0.0</td>\n",
       "      <td>0.0</td>\n",
       "      <td>...</td>\n",
       "      <td>27.8</td>\n",
       "      <td>17.2</td>\n",
       "      <td>170.0</td>\n",
       "      <td>50.0</td>\n",
       "      <td>5.8</td>\n",
       "      <td>8.9</td>\n",
       "      <td>True</td>\n",
       "      <td>True</td>\n",
       "      <td>False</td>\n",
       "      <td>False</td>\n",
       "    </tr>\n",
       "    <tr>\n",
       "      <th>3104</th>\n",
       "      <td>USW00014732</td>\n",
       "      <td>LAGUARDIA AIRPORT, NY US</td>\n",
       "      <td>40.77945</td>\n",
       "      <td>-73.88027</td>\n",
       "      <td>3.0</td>\n",
       "      <td>2018-06-02</td>\n",
       "      <td>4.1</td>\n",
       "      <td>0.3</td>\n",
       "      <td>0.0</td>\n",
       "      <td>0.0</td>\n",
       "      <td>...</td>\n",
       "      <td>30.6</td>\n",
       "      <td>19.4</td>\n",
       "      <td>110.0</td>\n",
       "      <td>100.0</td>\n",
       "      <td>10.3</td>\n",
       "      <td>12.1</td>\n",
       "      <td>True</td>\n",
       "      <td>True</td>\n",
       "      <td>False</td>\n",
       "      <td>False</td>\n",
       "    </tr>\n",
       "    <tr>\n",
       "      <th>3105</th>\n",
       "      <td>USW00014732</td>\n",
       "      <td>LAGUARDIA AIRPORT, NY US</td>\n",
       "      <td>40.77945</td>\n",
       "      <td>-73.88027</td>\n",
       "      <td>3.0</td>\n",
       "      <td>2018-06-03</td>\n",
       "      <td>5.8</td>\n",
       "      <td>7.6</td>\n",
       "      <td>0.0</td>\n",
       "      <td>0.0</td>\n",
       "      <td>...</td>\n",
       "      <td>19.4</td>\n",
       "      <td>11.7</td>\n",
       "      <td>100.0</td>\n",
       "      <td>90.0</td>\n",
       "      <td>10.7</td>\n",
       "      <td>12.5</td>\n",
       "      <td>True</td>\n",
       "      <td>True</td>\n",
       "      <td>False</td>\n",
       "      <td>False</td>\n",
       "    </tr>\n",
       "    <tr>\n",
       "      <th>3106</th>\n",
       "      <td>USW00014732</td>\n",
       "      <td>LAGUARDIA AIRPORT, NY US</td>\n",
       "      <td>40.77945</td>\n",
       "      <td>-73.88027</td>\n",
       "      <td>3.0</td>\n",
       "      <td>2018-06-04</td>\n",
       "      <td>4.4</td>\n",
       "      <td>8.9</td>\n",
       "      <td>0.0</td>\n",
       "      <td>0.0</td>\n",
       "      <td>...</td>\n",
       "      <td>22.2</td>\n",
       "      <td>11.1</td>\n",
       "      <td>50.0</td>\n",
       "      <td>50.0</td>\n",
       "      <td>8.9</td>\n",
       "      <td>10.3</td>\n",
       "      <td>True</td>\n",
       "      <td>True</td>\n",
       "      <td>False</td>\n",
       "      <td>False</td>\n",
       "    </tr>\n",
       "    <tr>\n",
       "      <th>3107</th>\n",
       "      <td>USW00014732</td>\n",
       "      <td>LAGUARDIA AIRPORT, NY US</td>\n",
       "      <td>40.77945</td>\n",
       "      <td>-73.88027</td>\n",
       "      <td>3.0</td>\n",
       "      <td>2018-06-05</td>\n",
       "      <td>4.2</td>\n",
       "      <td>0.0</td>\n",
       "      <td>0.0</td>\n",
       "      <td>0.0</td>\n",
       "      <td>...</td>\n",
       "      <td>25.0</td>\n",
       "      <td>15.0</td>\n",
       "      <td>290.0</td>\n",
       "      <td>290.0</td>\n",
       "      <td>10.7</td>\n",
       "      <td>14.8</td>\n",
       "      <td>True</td>\n",
       "      <td>False</td>\n",
       "      <td>False</td>\n",
       "      <td>False</td>\n",
       "    </tr>\n",
       "  </tbody>\n",
       "</table>\n",
       "<p>5 rows × 21 columns</p>\n",
       "</div>"
      ],
      "text/plain": [
       "          STATION                      NAME  LATITUDE  LONGITUDE  ELEVATION  \\\n",
       "3103  USW00014732  LAGUARDIA AIRPORT, NY US  40.77945  -73.88027        3.0   \n",
       "3104  USW00014732  LAGUARDIA AIRPORT, NY US  40.77945  -73.88027        3.0   \n",
       "3105  USW00014732  LAGUARDIA AIRPORT, NY US  40.77945  -73.88027        3.0   \n",
       "3106  USW00014732  LAGUARDIA AIRPORT, NY US  40.77945  -73.88027        3.0   \n",
       "3107  USW00014732  LAGUARDIA AIRPORT, NY US  40.77945  -73.88027        3.0   \n",
       "\n",
       "           DATE  AWND  PRCP  SNOW  SNWD  ...  TMAX  TMIN   WDF2   WDF5  WSF2  \\\n",
       "3103 2018-06-01   2.9   1.3   0.0   0.0  ...  27.8  17.2  170.0   50.0   5.8   \n",
       "3104 2018-06-02   4.1   0.3   0.0   0.0  ...  30.6  19.4  110.0  100.0  10.3   \n",
       "3105 2018-06-03   5.8   7.6   0.0   0.0  ...  19.4  11.7  100.0   90.0  10.7   \n",
       "3106 2018-06-04   4.4   8.9   0.0   0.0  ...  22.2  11.1   50.0   50.0   8.9   \n",
       "3107 2018-06-05   4.2   0.0   0.0   0.0  ...  25.0  15.0  290.0  290.0  10.7   \n",
       "\n",
       "      WSF5  WINDY  RAINY  SNOWY  SUNNY  \n",
       "3103   8.9   True   True  False  False  \n",
       "3104  12.1   True   True  False  False  \n",
       "3105  12.5   True   True  False  False  \n",
       "3106  10.3   True   True  False  False  \n",
       "3107  14.8   True  False  False  False  \n",
       "\n",
       "[5 rows x 21 columns]"
      ]
     },
     "execution_count": 77,
     "metadata": {},
     "output_type": "execute_result"
    }
   ],
   "source": [
    "summer_weather_2018.head()"
   ]
  },
  {
   "cell_type": "code",
   "execution_count": 78,
   "metadata": {
    "id": "CvL0xvxXADaM"
   },
   "outputs": [],
   "source": [
    "# Reset index for summer_collisions_2018 dataset.\n",
    "summer_weather_2018.reset_index(drop=True, inplace=True)\n",
    "\n",
    "# Reset index for summer_collisions_2020 dataset.\n",
    "summer_weather_2020.reset_index(drop=True, inplace=True)"
   ]
  },
  {
   "cell_type": "code",
   "execution_count": 79,
   "metadata": {},
   "outputs": [
    {
     "name": "stdout",
     "output_type": "stream",
     "text": [
      "The dataset has been saved in pickle format at summer_weather_2018.pkl.\n",
      "The dataset has been saved in pickle format at summer_weather_2020.pkl.\n"
     ]
    }
   ],
   "source": [
    "def save(data, file_path):\n",
    "    \"\"\"\n",
    "        Saves the dataset as a pickle file.\n",
    "    \"\"\"\n",
    "\n",
    "    with open(file_path, 'wb') as file:\n",
    "        pickle.dump(data, file)\n",
    "    print(f\"The dataset has been saved in pickle format at {file_path}.\")\n",
    "\n",
    "save(summer_weather_2018, 'summer_weather_2018.pkl')\n",
    "save(summer_weather_2020, 'summer_weather_2020.pkl')"
   ]
  }
 ],
 "metadata": {
  "colab": {
   "provenance": []
  },
  "kernelspec": {
   "display_name": "Python 3 (ipykernel)",
   "language": "python",
   "name": "python3"
  },
  "language_info": {
   "codemirror_mode": {
    "name": "ipython",
    "version": 3
   },
   "file_extension": ".py",
   "mimetype": "text/x-python",
   "name": "python",
   "nbconvert_exporter": "python",
   "pygments_lexer": "ipython3",
   "version": "3.9.13"
  }
 },
 "nbformat": 4,
 "nbformat_minor": 4
}
