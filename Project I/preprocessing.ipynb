{
 "cells": [
  {
   "cell_type": "markdown",
   "metadata": {},
   "source": [
    "# Imports & settings"
   ]
  },
  {
   "cell_type": "code",
   "execution_count": 1,
   "metadata": {},
   "outputs": [],
   "source": [
    "import pandas as pd\n",
    "import numpy as np\n",
    "import pickle"
   ]
  },
  {
   "cell_type": "markdown",
   "metadata": {},
   "source": [
    "# Preprocessing"
   ]
  },
  {
   "cell_type": "markdown",
   "metadata": {},
   "source": [
    "## 1. Collisions dataset preprocessing"
   ]
  },
  {
   "cell_type": "code",
   "execution_count": 2,
   "metadata": {},
   "outputs": [
    {
     "name": "stderr",
     "output_type": "stream",
     "text": [
      "C:\\Users\\llucp\\AppData\\Local\\Temp\\ipykernel_7768\\4232086350.py:2: DtypeWarning: Columns (3) have mixed types. Specify dtype option on import or set low_memory=False.\n",
      "  collisions = pd.read_csv('raw_data/collisions.csv')\n"
     ]
    }
   ],
   "source": [
    "# Loads the collision dataset.\n",
    "collisions = pd.read_csv('raw_data/collisions.csv')"
   ]
  },
  {
   "cell_type": "code",
   "execution_count": 3,
   "metadata": {},
   "outputs": [],
   "source": [
    "def filter_collisions(collisions):\n",
    "    \"\"\"\n",
    "        Filters the collisions dataset for the years 2018 and 2020.\n",
    "    \"\"\"\n",
    "\n",
    "    # Converts the 'CRASH DATE' column to a datetime format.\n",
    "    collisions['CRASH DATE'] = pd.to_datetime(collisions['CRASH DATE'], format='%m/%d/%Y')\n",
    "\n",
    "    # Filters the datasets for the summer months of 2018 and 2020.\n",
    "    def filter_summer_collisions(data, year):\n",
    "        return data[\n",
    "            ((data['CRASH DATE'].dt.year == year) & (data['CRASH DATE'].dt.month >= 6) & (data['CRASH DATE'].dt.month <= 8))\n",
    "        ]\n",
    "\n",
    "    summer_collisions_2018 = filter_summer_collisions(collisions, 2018)\n",
    "    summer_collisions_2020 = filter_summer_collisions(collisions, 2020)\n",
    "\n",
    "    return summer_collisions_2018, summer_collisions_2020\n",
    "\n",
    "# Gets the summer collisions for 2018 and 2020 datasets.\n",
    "summer_collisions_2018, summer_collisions_2020 = filter_collisions(collisions)"
   ]
  },
  {
   "cell_type": "code",
   "execution_count": 4,
   "metadata": {},
   "outputs": [],
   "source": [
    "# Differentiates the information contained in the columns of the dataset into the following categories:\n",
    "# Columns that identify collision in time.\n",
    "time_columns = [\n",
    "    'CRASH DATE',\n",
    "    'CRASH TIME',\n",
    "    'BOROUGH',\n",
    "    'ZIP CODE',\n",
    "    'COLLISION_ID']\n",
    "\n",
    "# Columns that identify collision in space (locally).\n",
    "location_columns = [\n",
    "    'ON STREET NAME', \n",
    "    'CROSS STREET NAME',\n",
    "    'OFF STREET NAME'\n",
    "]\n",
    "\n",
    "# Columns about coordinate location of the collision.\n",
    "coordinates = [\n",
    "    'LATITUDE',\n",
    "    'LONGITUDE'\n",
    "]\n",
    "\n",
    "# Columns about the type of vehicles involved in the collision.\n",
    "vehicle_type = [\n",
    "    'VEHICLE TYPE CODE 1',\n",
    "    'VEHICLE TYPE CODE 2',\n",
    "    'VEHICLE TYPE CODE 3',\n",
    "    'VEHICLE TYPE CODE 4',\n",
    "    'VEHICLE TYPE CODE 5'\n",
    "]"
   ]
  },
  {
   "cell_type": "code",
   "execution_count": 5,
   "metadata": {},
   "outputs": [],
   "source": [
    "def filter_columns_of_interest(summer_collisions, columns_of_interest):\n",
    "    \"\"\"\n",
    "        Filters the summer collisions to keep only the columns of interest.\n",
    "    \"\"\"\n",
    "\n",
    "    # Gets the columns of no interest in.\n",
    "    columns_to_drop = [col for col in summer_collisions.columns if col not in columns_of_interest]\n",
    "    \n",
    "    # Drops the columns not in columns_of_interest.\n",
    "    summer_collisions = summer_collisions.drop(columns=columns_to_drop)\n",
    "    \n",
    "    return summer_collisions\n",
    "\n",
    "# Defines columns of interest.\n",
    "columns_of_interest = time_columns + coordinates + vehicle_type\n",
    "\n",
    "# Filter columns of interest for both summer_collisions_2018 and summer_collisions_2020.\n",
    "summer_collisions_2018 = filter_columns_of_interest(summer_collisions_2018, columns_of_interest)\n",
    "summer_collisions_2020 = filter_columns_of_interest(summer_collisions_2020, columns_of_interest)"
   ]
  },
  {
   "cell_type": "code",
   "execution_count": 6,
   "metadata": {},
   "outputs": [],
   "source": [
    "def manage_missing_values(summer_collisions):\n",
    "    \"\"\"\n",
    "        Processes the datasets with specified criteria on information category selection (column selection).\n",
    "    \"\"\"\n",
    "\n",
    "    # Replaces 'Unspecified' with NaN values.\n",
    "    summer_collisions = summer_collisions.replace('Unspecified', np.nan)\n",
    "    \n",
    "    # Drops rows with missing values in categories time_columns, coordinates.\n",
    "    summer_collisions = summer_collisions.dropna(subset=time_columns, how='any')\n",
    "    summer_collisions = summer_collisions.dropna(subset=coordinates, how='any')\n",
    "    \n",
    "    # Drops rows with missing values in vehicle_type where at least two types are specified.\n",
    "    summer_collisions = summer_collisions.dropna(subset=vehicle_type, thresh=2)\n",
    "    \n",
    "    return summer_collisions\n",
    "\n",
    "# Gets the minimum missing values dataframe, with all information needed to conduct the visualizations, for both summer_collisions_2018 and summer_collisions_2020.\n",
    "summer_collisions_2018 = manage_missing_values(summer_collisions_2018)\n",
    "summer_collisions_2020 = manage_missing_values(summer_collisions_2020)"
   ]
  },
  {
   "cell_type": "code",
   "execution_count": 7,
   "metadata": {},
   "outputs": [],
   "source": [
    "def encode_vehicle_types(summer_collisions, vehicle_types):\n",
    "    \"\"\"\n",
    "        Adds boolean encoding to columns indicating the presence or absence of each vehicle type.\n",
    "    \"\"\"\n",
    "\n",
    "    # Iterate over each vehicle type column and create boolean columns\n",
    "    for col in vehicle_types:\n",
    "        summer_collisions[col] = ~summer_collisions[col].isna()\n",
    "\n",
    "    return summer_collisions\n",
    "\n",
    "vehicle_types = ['VEHICLE TYPE CODE 1', 'VEHICLE TYPE CODE 2', 'VEHICLE TYPE CODE 3', 'VEHICLE TYPE CODE 4', 'VEHICLE TYPE CODE 5']\n",
    "summer_collisions_2018 = encode_vehicle_types(summer_collisions_2018, vehicle_types)\n",
    "summer_collisions_2020 = encode_vehicle_types(summer_collisions_2020, vehicle_types)"
   ]
  },
  {
   "cell_type": "code",
   "execution_count": 8,
   "metadata": {},
   "outputs": [],
   "source": [
    "def add_daytype(summer_collisions):\n",
    "    \"\"\"\n",
    "        Adds a column to the datasets indicating wheter is weekday or weekend.\n",
    "    \"\"\"\n",
    "\n",
    "    # Adds a new column indicating wheter is weekday (1) or weekend (0), recoded as 'Weekday' and 'Weekend' respectively.\n",
    "    summer_collisions['DAY TYPE'] = (summer_collisions['CRASH DATE'].dt.dayofweek // 5 == 1).astype(int)\n",
    "    summer_collisions['DAY TYPE'] = summer_collisions['DAY TYPE'].map({0: 'Weekday', 1: 'Weekend'})\n",
    "    \n",
    "    return summer_collisions\n",
    "\n",
    "# Adds the day type column into both summer_collisions_2018 and summer_collisions_2020.\n",
    "summer_collisions_2018 = add_daytype(summer_collisions_2018)\n",
    "summer_collisions_2020 = add_daytype(summer_collisions_2020)"
   ]
  },
  {
   "cell_type": "code",
   "execution_count": 9,
   "metadata": {},
   "outputs": [],
   "source": [
    "def add_covid_restrictions(summer_collisions, threshold_date):\n",
    "    \"\"\"\n",
    "        Adds a column indicating wheter COVID-19 restrictions were dictated or not.\n",
    "    \"\"\"\n",
    "\n",
    "    # Adds a new column indicating wheter the COVID-19 restrictions were dictated (1) or not (0), recoded as Covid and No Covid respectively.\n",
    "    summer_collisions['COVID-19 RESTRICTIONS'] = (summer_collisions['CRASH DATE'] >= threshold_date).astype(int)\n",
    "    summer_collisions['COVID-19 RESTRICTIONS'] = summer_collisions['COVID-19 RESTRICTIONS'].map({1: 'Covid-19', 0: 'No Covid-19'})\n",
    "\n",
    "    return summer_collisions\n",
    "\n",
    "# Threshold date for the dictation of COVID-19 restrictions.\n",
    "covid_threshold_date = pd.to_datetime('2020-03-15')\n",
    "\n",
    "# Adds the COVID-19 restriction column into both summer_collisions_2018 and summer_collisions_2020.\n",
    "summer_collisions_2018 = add_covid_restrictions(summer_collisions_2018, covid_threshold_date)\n",
    "summer_collisions_2020 = add_covid_restrictions(summer_collisions_2020, covid_threshold_date)"
   ]
  },
  {
   "cell_type": "code",
   "execution_count": 10,
   "metadata": {},
   "outputs": [],
   "source": [
    "# Changes data type of ZIP CODE column to integer.\n",
    "summer_collisions_2018['ZIP CODE'] = pd.to_numeric(summer_collisions_2018['ZIP CODE'], errors='coerce', downcast='integer')\n",
    "summer_collisions_2020['ZIP CODE'] = pd.to_numeric(summer_collisions_2020['ZIP CODE'], errors='coerce', downcast='integer')"
   ]
  },
  {
   "cell_type": "code",
   "execution_count": 11,
   "metadata": {},
   "outputs": [],
   "source": [
    "# Reset index for summer_collisions_2018 dataset.\n",
    "summer_collisions_2018.reset_index(drop=True, inplace=True)\n",
    "\n",
    "# Reset index for summer_collisions_2020 dataset.\n",
    "summer_collisions_2020.reset_index(drop=True, inplace=True)"
   ]
  },
  {
   "cell_type": "code",
   "execution_count": 12,
   "metadata": {},
   "outputs": [
    {
     "name": "stdout",
     "output_type": "stream",
     "text": [
      "The dataset has been saved in pickle format at preprocessed_data/summer_collisions_2018.pkl.\n",
      "The dataset has been saved in pickle format at preprocessed_data/summer_collisions_2020.pkl.\n"
     ]
    }
   ],
   "source": [
    "def save(data, file_path):\n",
    "    \"\"\"\n",
    "        Saves the dataset as a pickle file.\n",
    "    \"\"\"\n",
    "\n",
    "    with open(file_path, 'wb') as file:\n",
    "        pickle.dump(data, file)\n",
    "    print(f\"The dataset has been saved in pickle format at {file_path}.\")\n",
    "\n",
    "save(summer_collisions_2018, 'preprocessed_data/summer_collisions_2018.pkl')\n",
    "save(summer_collisions_2020, 'preprocessed_data/summer_collisions_2020.pkl')"
   ]
  },
  {
   "cell_type": "code",
   "execution_count": 30,
   "metadata": {},
   "outputs": [
    {
     "data": {
      "text/html": [
       "<div>\n",
       "<style scoped>\n",
       "    .dataframe tbody tr th:only-of-type {\n",
       "        vertical-align: middle;\n",
       "    }\n",
       "\n",
       "    .dataframe tbody tr th {\n",
       "        vertical-align: top;\n",
       "    }\n",
       "\n",
       "    .dataframe thead th {\n",
       "        text-align: right;\n",
       "    }\n",
       "</style>\n",
       "<table border=\"1\" class=\"dataframe\">\n",
       "  <thead>\n",
       "    <tr style=\"text-align: right;\">\n",
       "      <th></th>\n",
       "      <th>CRASH DATE</th>\n",
       "      <th>CRASH TIME</th>\n",
       "      <th>BOROUGH</th>\n",
       "      <th>ZIP CODE</th>\n",
       "      <th>LATITUDE</th>\n",
       "      <th>LONGITUDE</th>\n",
       "      <th>COLLISION_ID</th>\n",
       "      <th>VEHICLE TYPE CODE 1</th>\n",
       "      <th>VEHICLE TYPE CODE 2</th>\n",
       "      <th>VEHICLE TYPE CODE 3</th>\n",
       "      <th>VEHICLE TYPE CODE 4</th>\n",
       "      <th>VEHICLE TYPE CODE 5</th>\n",
       "      <th>DAY TYPE</th>\n",
       "      <th>COVID-19 RESTRICTIONS</th>\n",
       "    </tr>\n",
       "  </thead>\n",
       "  <tbody>\n",
       "    <tr>\n",
       "      <th>0</th>\n",
       "      <td>2018-08-30</td>\n",
       "      <td>14:00</td>\n",
       "      <td>BROOKLYN</td>\n",
       "      <td>11204</td>\n",
       "      <td>40.616620</td>\n",
       "      <td>-73.999720</td>\n",
       "      <td>3971526</td>\n",
       "      <td>True</td>\n",
       "      <td>True</td>\n",
       "      <td>False</td>\n",
       "      <td>False</td>\n",
       "      <td>False</td>\n",
       "      <td>Weekday</td>\n",
       "      <td>No Covid-19</td>\n",
       "    </tr>\n",
       "    <tr>\n",
       "      <th>1</th>\n",
       "      <td>2018-08-31</td>\n",
       "      <td>7:55</td>\n",
       "      <td>BRONX</td>\n",
       "      <td>10472</td>\n",
       "      <td>40.827168</td>\n",
       "      <td>-73.870125</td>\n",
       "      <td>3973140</td>\n",
       "      <td>True</td>\n",
       "      <td>True</td>\n",
       "      <td>False</td>\n",
       "      <td>False</td>\n",
       "      <td>False</td>\n",
       "      <td>Weekday</td>\n",
       "      <td>No Covid-19</td>\n",
       "    </tr>\n",
       "    <tr>\n",
       "      <th>2</th>\n",
       "      <td>2018-08-28</td>\n",
       "      <td>18:15</td>\n",
       "      <td>BROOKLYN</td>\n",
       "      <td>11211</td>\n",
       "      <td>40.706540</td>\n",
       "      <td>-73.950410</td>\n",
       "      <td>3969590</td>\n",
       "      <td>True</td>\n",
       "      <td>True</td>\n",
       "      <td>False</td>\n",
       "      <td>False</td>\n",
       "      <td>False</td>\n",
       "      <td>Weekday</td>\n",
       "      <td>No Covid-19</td>\n",
       "    </tr>\n",
       "    <tr>\n",
       "      <th>3</th>\n",
       "      <td>2018-08-29</td>\n",
       "      <td>14:50</td>\n",
       "      <td>QUEENS</td>\n",
       "      <td>11694</td>\n",
       "      <td>40.586067</td>\n",
       "      <td>-73.822630</td>\n",
       "      <td>3970294</td>\n",
       "      <td>True</td>\n",
       "      <td>True</td>\n",
       "      <td>False</td>\n",
       "      <td>False</td>\n",
       "      <td>False</td>\n",
       "      <td>Weekday</td>\n",
       "      <td>No Covid-19</td>\n",
       "    </tr>\n",
       "    <tr>\n",
       "      <th>4</th>\n",
       "      <td>2018-08-05</td>\n",
       "      <td>16:45</td>\n",
       "      <td>MANHATTAN</td>\n",
       "      <td>10075</td>\n",
       "      <td>40.773640</td>\n",
       "      <td>-73.959860</td>\n",
       "      <td>3955175</td>\n",
       "      <td>True</td>\n",
       "      <td>True</td>\n",
       "      <td>False</td>\n",
       "      <td>False</td>\n",
       "      <td>False</td>\n",
       "      <td>Weekend</td>\n",
       "      <td>No Covid-19</td>\n",
       "    </tr>\n",
       "  </tbody>\n",
       "</table>\n",
       "</div>"
      ],
      "text/plain": [
       "  CRASH DATE CRASH TIME    BOROUGH  ZIP CODE   LATITUDE  LONGITUDE  \\\n",
       "0 2018-08-30      14:00   BROOKLYN     11204  40.616620 -73.999720   \n",
       "1 2018-08-31       7:55      BRONX     10472  40.827168 -73.870125   \n",
       "2 2018-08-28      18:15   BROOKLYN     11211  40.706540 -73.950410   \n",
       "3 2018-08-29      14:50     QUEENS     11694  40.586067 -73.822630   \n",
       "4 2018-08-05      16:45  MANHATTAN     10075  40.773640 -73.959860   \n",
       "\n",
       "   COLLISION_ID  VEHICLE TYPE CODE 1  VEHICLE TYPE CODE 2  \\\n",
       "0       3971526                 True                 True   \n",
       "1       3973140                 True                 True   \n",
       "2       3969590                 True                 True   \n",
       "3       3970294                 True                 True   \n",
       "4       3955175                 True                 True   \n",
       "\n",
       "   VEHICLE TYPE CODE 3  VEHICLE TYPE CODE 4  VEHICLE TYPE CODE 5 DAY TYPE  \\\n",
       "0                False                False                False  Weekday   \n",
       "1                False                False                False  Weekday   \n",
       "2                False                False                False  Weekday   \n",
       "3                False                False                False  Weekday   \n",
       "4                False                False                False  Weekend   \n",
       "\n",
       "  COVID-19 RESTRICTIONS  \n",
       "0           No Covid-19  \n",
       "1           No Covid-19  \n",
       "2           No Covid-19  \n",
       "3           No Covid-19  \n",
       "4           No Covid-19  "
      ]
     },
     "execution_count": 30,
     "metadata": {},
     "output_type": "execute_result"
    }
   ],
   "source": [
    "summer_collisions_2018.head()"
   ]
  },
  {
   "cell_type": "markdown",
   "metadata": {},
   "source": [
    "## 2. Weather dataset preprocessing"
   ]
  },
  {
   "cell_type": "code",
   "execution_count": 13,
   "metadata": {},
   "outputs": [
    {
     "name": "stderr",
     "output_type": "stream",
     "text": [
      "C:\\Users\\llucp\\AppData\\Local\\Temp\\ipykernel_7768\\4242094568.py:2: DtypeWarning: Columns (7,9,13,17,21,23,25,27,29,31,33,35,37,39,41,43,45,47,49,51,53,55,57,59,61,63,65) have mixed types. Specify dtype option on import or set low_memory=False.\n",
      "  weather = pd.read_csv('raw_data/weather.csv')\n"
     ]
    }
   ],
   "source": [
    "# Loads the weather dataset.\n",
    "weather = pd.read_csv('raw_data/weather.csv')"
   ]
  },
  {
   "cell_type": "code",
   "execution_count": 14,
   "metadata": {},
   "outputs": [],
   "source": [
    "def filter_weather(weather):\n",
    "    \"\"\"\n",
    "        Filters the weather dataset for the years 2018 and 2020.\n",
    "    \"\"\"\n",
    "    \n",
    "    # Convert 'DATE' column to datetime format.\n",
    "    weather['DATE'] = pd.to_datetime(weather['DATE'], errors='coerce')\n",
    "\n",
    "    # Filters the datasets for the summer months of 2018 and 2020.\n",
    "    def filter_summer_weather(data, year):\n",
    "        return data[\n",
    "            ((data['DATE'].dt.year == year) & (data['DATE'].dt.month >= 6) & (data['DATE'].dt.month <= 8))\n",
    "        ]\n",
    "\n",
    "    summer_weather_2018 = filter_summer_weather(weather, 2018)\n",
    "    summer_weather_2020 = filter_summer_weather(weather, 2020)\n",
    "\n",
    "    return summer_weather_2018, summer_weather_2020\n",
    "\n",
    "# Gets the summer weather for 2018 and 2020 datasets.\n",
    "summer_weather_2018, summer_weather_2020 = filter_weather(weather)"
   ]
  },
  {
   "cell_type": "code",
   "execution_count": 15,
   "metadata": {},
   "outputs": [],
   "source": [
    "# Differentiates the information contained in the columns of the dataset into the following categories:\n",
    "# Columns that identify the weather station and the date of the observation.\n",
    "observation_columns = [\n",
    "    'STATION', \n",
    "    'NAME', \n",
    "    'DATE'\n",
    "]\n",
    "\n",
    "# Columns about coordinate location of the observation.\n",
    "coordinates = [\n",
    "    'LATITUDE', \n",
    "    'LONGITUDE', \n",
    "    'ELEVATION'\n",
    "]\n",
    "\n",
    "# Columns about the weather conditions (snowfall).\n",
    "snowfall_columns = [\n",
    "    'SNOW', # Snowfall.\n",
    "    'SNWD'  # Snow depth.\n",
    "]\n",
    "\n",
    "# Columns about the weather conditions (temperature).\n",
    "temperature_columns = [\n",
    "    'TAVG', # Average temperature.\n",
    "    'TMAX', # Maximum temperature.\n",
    "    'TMIN'  # Minimum temperature.\n",
    "]\n",
    "\n",
    "# Columns about the weather conditions (wind).\n",
    "wind_columns = [\n",
    "    'AWND', # Average daily wind speed.\n",
    "    'WDF2', # Direction of the fastest 2-minute wind.\n",
    "    'WDF5', # Direction of the fastest 5-second wind.\n",
    "    'WSF2', # Fastest 2-minute wind speed.\n",
    "    'WSF5'  # Fastest 5-second wind speed.\n",
    "]\n",
    "\n",
    "# Columns about the weather conditions (precipitation).\n",
    "# Consider only 'PRCP' column."
   ]
  },
  {
   "cell_type": "code",
   "execution_count": 16,
   "metadata": {},
   "outputs": [],
   "source": [
    "def filter_columns_of_interest(summer_weather, columns_of_interest):\n",
    "    \"\"\"\n",
    "        Filters the summer weather to keep only the columns of interest.\n",
    "    \"\"\"\n",
    "\n",
    "    # Gets the columns of no interest in.\n",
    "    columns_to_drop = [col for col in summer_weather.columns if col not in columns_of_interest]\n",
    "    \n",
    "    # Drops the columns not in columns_of_interest.\n",
    "    summer_weather = summer_weather.drop(columns=columns_to_drop)\n",
    "    \n",
    "    return summer_weather\n",
    "\n",
    "# Defines columns of interest.\n",
    "columns_of_interest = observation_columns + coordinates + snowfall_columns + temperature_columns + wind_columns + ['PRCP']\n",
    "\n",
    "# Filter columns of interest for both summer_weather_2018 and summer_weather_2020.\n",
    "summer_weather_2018 = filter_columns_of_interest(summer_weather_2018, columns_of_interest)\n",
    "summer_weather_2020 = filter_columns_of_interest(summer_weather_2020, columns_of_interest)"
   ]
  },
  {
   "cell_type": "code",
   "execution_count": 17,
   "metadata": {},
   "outputs": [],
   "source": [
    "def replace_nan_with_zero(summer_weather):\n",
    "    # Replaces all NaN values with 0 values.\n",
    "   summer_weather.fillna(0, inplace=True)\n",
    "   return summer_weather\n",
    "\n",
    "summer_weather_2018 = replace_nan_with_zero(summer_weather_2018)\n",
    "summer_weather_2020 = replace_nan_with_zero(summer_weather_2020)"
   ]
  },
  {
   "cell_type": "code",
   "execution_count": 18,
   "metadata": {},
   "outputs": [],
   "source": [
    "def encode_weather_conditions(summer_weather):\n",
    "    # Creates new columns to define labels for weather conditions\n",
    "    summer_weather['WINDY'] = (summer_weather['AWND'].gt(0) | summer_weather['WDF2'].gt(0) | summer_weather['WDF5'].gt(0) | summer_weather['WSF2'].gt(0) | summer_weather['WSF5'].gt(0))\n",
    "    summer_weather['RAINY'] = summer_weather['PRCP'].gt(0)  # Considers only non-zero precipitation as rainy\n",
    "    summer_weather['SNOWY'] = (summer_weather['SNOW'].gt(0) | summer_weather['SNWD'].gt(0))\n",
    "    summer_weather['SUNNY'] = ~(summer_weather['WINDY'] | summer_weather['RAINY'] | summer_weather['SNOWY'])\n",
    "\n",
    "    return summer_weather\n",
    "\n",
    "summer_weather_2018 = encode_weather_conditions(summer_weather_2018)\n",
    "summer_weather_2020 = encode_weather_conditions(summer_weather_2020)"
   ]
  },
  {
   "cell_type": "code",
   "execution_count": 19,
   "metadata": {},
   "outputs": [],
   "source": [
    "# Reset index for summer_weather_2018 dataset.\n",
    "summer_weather_2018.reset_index(drop=True, inplace=True)\n",
    "\n",
    "# Reset index for summer_weather_2020 dataset.\n",
    "summer_weather_2020.reset_index(drop=True, inplace=True)"
   ]
  },
  {
   "cell_type": "code",
   "execution_count": 20,
   "metadata": {},
   "outputs": [
    {
     "name": "stdout",
     "output_type": "stream",
     "text": [
      "The dataset has been saved in pickle format at preprocessed_data/summer_weather_2018.pkl.\n",
      "The dataset has been saved in pickle format at preprocessed_data/summer_weather_2020.pkl.\n"
     ]
    }
   ],
   "source": [
    "def save(data, file_path):\n",
    "    \"\"\"\n",
    "        Saves the dataset as a pickle file.\n",
    "    \"\"\"\n",
    "\n",
    "    with open(file_path, 'wb') as file:\n",
    "        pickle.dump(data, file)\n",
    "    print(f\"The dataset has been saved in pickle format at {file_path}.\")\n",
    "\n",
    "save(summer_weather_2018, 'preprocessed_data/summer_weather_2018.pkl')\n",
    "save(summer_weather_2020, 'preprocessed_data/summer_weather_2020.pkl')"
   ]
  },
  {
   "cell_type": "markdown",
   "metadata": {},
   "source": [
    "# 3. New York City (NYC) map"
   ]
  },
  {
   "cell_type": "markdown",
   "metadata": {},
   "source": [
    "Save to pickle the final dataset in order to load it in posterior visualizations, if not exists process raw data, if exists load. in other file???"
   ]
  }
 ],
 "metadata": {
  "kernelspec": {
   "display_name": "base",
   "language": "python",
   "name": "python3"
  },
  "language_info": {
   "codemirror_mode": {
    "name": "ipython",
    "version": 3
   },
   "file_extension": ".py",
   "mimetype": "text/x-python",
   "name": "python",
   "nbconvert_exporter": "python",
   "pygments_lexer": "ipython3",
   "version": "3.11.5"
  }
 },
 "nbformat": 4,
 "nbformat_minor": 2
}
